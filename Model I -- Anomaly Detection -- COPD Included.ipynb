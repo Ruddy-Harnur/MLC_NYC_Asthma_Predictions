{
 "cells": [
  {
   "cell_type": "code",
   "execution_count": 1,
   "metadata": {},
   "outputs": [],
   "source": [
    "import pandas as pd\n",
    "import numpy as np\n",
    "import statsmodels.formula.api as smf\n",
    "import matplotlib.pylab as plt\n",
    "import math\n",
    "from scipy import stats\n",
    "import geopandas as gpd\n",
    "%matplotlib inline\n",
    "from sklearn import preprocessing"
   ]
  },
  {
   "cell_type": "code",
   "execution_count": 2,
   "metadata": {},
   "outputs": [],
   "source": [
    "Model_I = pd.read_csv('Model I.csv')"
   ]
  },
  {
   "cell_type": "code",
   "execution_count": 3,
   "metadata": {},
   "outputs": [
    {
     "data": {
      "text/html": [
       "<div>\n",
       "<style scoped>\n",
       "    .dataframe tbody tr th:only-of-type {\n",
       "        vertical-align: middle;\n",
       "    }\n",
       "\n",
       "    .dataframe tbody tr th {\n",
       "        vertical-align: top;\n",
       "    }\n",
       "\n",
       "    .dataframe thead th {\n",
       "        text-align: right;\n",
       "    }\n",
       "</style>\n",
       "<table border=\"1\" class=\"dataframe\">\n",
       "  <thead>\n",
       "    <tr style=\"text-align: right;\">\n",
       "      <th></th>\n",
       "      <th>Neighborhood-index</th>\n",
       "      <th>Adults Reporting Exercise in the Past 30 Days</th>\n",
       "      <th>Adults Reporting Secondhand Smoke at Home</th>\n",
       "      <th>Adults with Asthma in the Past 12 Months</th>\n",
       "      <th>Adults with High Cholesterol</th>\n",
       "      <th>Adults without a Smoke-Free Home Policy</th>\n",
       "      <th>Air Toxics Concentrations- Average Benzene Concentrations</th>\n",
       "      <th>Air Toxics Concentrations- Average Formaldehyde Concentrations</th>\n",
       "      <th>Asthma Hospitalizations (Adults)</th>\n",
       "      <th>Asthma Hospitalizations (Children 0 to 4 Yrs Old)</th>\n",
       "      <th>...</th>\n",
       "      <th>Cigarette Smoking among Adults</th>\n",
       "      <th>Fine Particulate Matter (PM2.5)</th>\n",
       "      <th>Neighborhood Race/Ethnicity - Non Hispanic Black</th>\n",
       "      <th>Neighborhood Race/Ethnicity - Non Hispanic White</th>\n",
       "      <th>Nitric Oxide (NO)</th>\n",
       "      <th>Nitrogen Dioxide (NO2)</th>\n",
       "      <th>Overweight or Obese Adults</th>\n",
       "      <th>predicted annual average fine particulate matter &lt;2.5 microns</th>\n",
       "      <th>Walkability Index (Infrastructure)</th>\n",
       "      <th>Chronic Obstructive Pulmonary Disease  Hospitalization</th>\n",
       "    </tr>\n",
       "  </thead>\n",
       "  <tbody>\n",
       "    <tr>\n",
       "      <th>0</th>\n",
       "      <td>Bayside - Little Neck</td>\n",
       "      <td>75.333333</td>\n",
       "      <td>2.350</td>\n",
       "      <td>2.616667</td>\n",
       "      <td>30.6875</td>\n",
       "      <td>24.52</td>\n",
       "      <td>1.2</td>\n",
       "      <td>1.9</td>\n",
       "      <td>21.855556</td>\n",
       "      <td>25.866667</td>\n",
       "      <td>...</td>\n",
       "      <td>12.166667</td>\n",
       "      <td>9.109333</td>\n",
       "      <td>1</td>\n",
       "      <td>2</td>\n",
       "      <td>20.868667</td>\n",
       "      <td>18.537333</td>\n",
       "      <td>48.116667</td>\n",
       "      <td>9.147342</td>\n",
       "      <td>-2.12</td>\n",
       "      <td>44.883333</td>\n",
       "    </tr>\n",
       "    <tr>\n",
       "      <th>1</th>\n",
       "      <td>Bedford Stuyvesant - Crown Heights</td>\n",
       "      <td>74.933333</td>\n",
       "      <td>9.100</td>\n",
       "      <td>5.450000</td>\n",
       "      <td>26.1375</td>\n",
       "      <td>29.16</td>\n",
       "      <td>1.3</td>\n",
       "      <td>2.0</td>\n",
       "      <td>395.105556</td>\n",
       "      <td>224.033333</td>\n",
       "      <td>...</td>\n",
       "      <td>18.266667</td>\n",
       "      <td>9.778000</td>\n",
       "      <td>3</td>\n",
       "      <td>1</td>\n",
       "      <td>22.672000</td>\n",
       "      <td>24.560667</td>\n",
       "      <td>63.483333</td>\n",
       "      <td>9.722558</td>\n",
       "      <td>1.64</td>\n",
       "      <td>180.250000</td>\n",
       "    </tr>\n",
       "    <tr>\n",
       "      <th>2</th>\n",
       "      <td>Bensonhurst - Bay Ridge</td>\n",
       "      <td>71.883333</td>\n",
       "      <td>4.850</td>\n",
       "      <td>1.050000</td>\n",
       "      <td>34.8375</td>\n",
       "      <td>29.16</td>\n",
       "      <td>1.6</td>\n",
       "      <td>2.0</td>\n",
       "      <td>58.927778</td>\n",
       "      <td>17.591667</td>\n",
       "      <td>...</td>\n",
       "      <td>18.216667</td>\n",
       "      <td>9.210667</td>\n",
       "      <td>1</td>\n",
       "      <td>3</td>\n",
       "      <td>18.699333</td>\n",
       "      <td>20.423333</td>\n",
       "      <td>52.400000</td>\n",
       "      <td>9.208983</td>\n",
       "      <td>0.24</td>\n",
       "      <td>119.088889</td>\n",
       "    </tr>\n",
       "    <tr>\n",
       "      <th>3</th>\n",
       "      <td>Borough Park</td>\n",
       "      <td>70.233333</td>\n",
       "      <td>3.775</td>\n",
       "      <td>2.866667</td>\n",
       "      <td>33.8250</td>\n",
       "      <td>26.24</td>\n",
       "      <td>1.5</td>\n",
       "      <td>2.0</td>\n",
       "      <td>103.816667</td>\n",
       "      <td>31.433333</td>\n",
       "      <td>...</td>\n",
       "      <td>15.483333</td>\n",
       "      <td>9.457333</td>\n",
       "      <td>1</td>\n",
       "      <td>3</td>\n",
       "      <td>20.108667</td>\n",
       "      <td>22.531333</td>\n",
       "      <td>55.083333</td>\n",
       "      <td>9.560240</td>\n",
       "      <td>0.17</td>\n",
       "      <td>131.144444</td>\n",
       "    </tr>\n",
       "    <tr>\n",
       "      <th>4</th>\n",
       "      <td>Canarsie - Flatlands</td>\n",
       "      <td>75.216667</td>\n",
       "      <td>4.225</td>\n",
       "      <td>3.166667</td>\n",
       "      <td>28.5125</td>\n",
       "      <td>20.38</td>\n",
       "      <td>1.1</td>\n",
       "      <td>1.8</td>\n",
       "      <td>126.544444</td>\n",
       "      <td>87.758333</td>\n",
       "      <td>...</td>\n",
       "      <td>12.850000</td>\n",
       "      <td>9.118000</td>\n",
       "      <td>3</td>\n",
       "      <td>2</td>\n",
       "      <td>18.268000</td>\n",
       "      <td>17.801333</td>\n",
       "      <td>65.016667</td>\n",
       "      <td>8.751160</td>\n",
       "      <td>-0.99</td>\n",
       "      <td>100.688889</td>\n",
       "    </tr>\n",
       "  </tbody>\n",
       "</table>\n",
       "<p>5 rows × 23 columns</p>\n",
       "</div>"
      ],
      "text/plain": [
       "                   Neighborhood-index  \\\n",
       "0               Bayside - Little Neck   \n",
       "1  Bedford Stuyvesant - Crown Heights   \n",
       "2             Bensonhurst - Bay Ridge   \n",
       "3                        Borough Park   \n",
       "4                Canarsie - Flatlands   \n",
       "\n",
       "   Adults Reporting Exercise in the Past 30 Days  \\\n",
       "0                                      75.333333   \n",
       "1                                      74.933333   \n",
       "2                                      71.883333   \n",
       "3                                      70.233333   \n",
       "4                                      75.216667   \n",
       "\n",
       "   Adults Reporting Secondhand Smoke at Home  \\\n",
       "0                                      2.350   \n",
       "1                                      9.100   \n",
       "2                                      4.850   \n",
       "3                                      3.775   \n",
       "4                                      4.225   \n",
       "\n",
       "   Adults with Asthma in the Past 12 Months  Adults with High Cholesterol  \\\n",
       "0                                  2.616667                       30.6875   \n",
       "1                                  5.450000                       26.1375   \n",
       "2                                  1.050000                       34.8375   \n",
       "3                                  2.866667                       33.8250   \n",
       "4                                  3.166667                       28.5125   \n",
       "\n",
       "   Adults without a Smoke-Free Home Policy  \\\n",
       "0                                    24.52   \n",
       "1                                    29.16   \n",
       "2                                    29.16   \n",
       "3                                    26.24   \n",
       "4                                    20.38   \n",
       "\n",
       "   Air Toxics Concentrations- Average Benzene Concentrations  \\\n",
       "0                                                1.2           \n",
       "1                                                1.3           \n",
       "2                                                1.6           \n",
       "3                                                1.5           \n",
       "4                                                1.1           \n",
       "\n",
       "   Air Toxics Concentrations- Average Formaldehyde Concentrations  \\\n",
       "0                                                1.9                \n",
       "1                                                2.0                \n",
       "2                                                2.0                \n",
       "3                                                2.0                \n",
       "4                                                1.8                \n",
       "\n",
       "   Asthma Hospitalizations (Adults)  \\\n",
       "0                         21.855556   \n",
       "1                        395.105556   \n",
       "2                         58.927778   \n",
       "3                        103.816667   \n",
       "4                        126.544444   \n",
       "\n",
       "   Asthma Hospitalizations (Children 0 to 4 Yrs Old)  ...  \\\n",
       "0                                          25.866667  ...   \n",
       "1                                         224.033333  ...   \n",
       "2                                          17.591667  ...   \n",
       "3                                          31.433333  ...   \n",
       "4                                          87.758333  ...   \n",
       "\n",
       "   Cigarette Smoking among Adults  Fine Particulate Matter (PM2.5)  \\\n",
       "0                       12.166667                         9.109333   \n",
       "1                       18.266667                         9.778000   \n",
       "2                       18.216667                         9.210667   \n",
       "3                       15.483333                         9.457333   \n",
       "4                       12.850000                         9.118000   \n",
       "\n",
       "   Neighborhood Race/Ethnicity - Non Hispanic Black  \\\n",
       "0                                                 1   \n",
       "1                                                 3   \n",
       "2                                                 1   \n",
       "3                                                 1   \n",
       "4                                                 3   \n",
       "\n",
       "   Neighborhood Race/Ethnicity - Non Hispanic White  Nitric Oxide (NO)  \\\n",
       "0                                                 2          20.868667   \n",
       "1                                                 1          22.672000   \n",
       "2                                                 3          18.699333   \n",
       "3                                                 3          20.108667   \n",
       "4                                                 2          18.268000   \n",
       "\n",
       "   Nitrogen Dioxide (NO2)  Overweight or Obese Adults  \\\n",
       "0               18.537333                   48.116667   \n",
       "1               24.560667                   63.483333   \n",
       "2               20.423333                   52.400000   \n",
       "3               22.531333                   55.083333   \n",
       "4               17.801333                   65.016667   \n",
       "\n",
       "   predicted annual average fine particulate matter <2.5 microns  \\\n",
       "0                                           9.147342               \n",
       "1                                           9.722558               \n",
       "2                                           9.208983               \n",
       "3                                           9.560240               \n",
       "4                                           8.751160               \n",
       "\n",
       "   Walkability Index (Infrastructure)  \\\n",
       "0                               -2.12   \n",
       "1                                1.64   \n",
       "2                                0.24   \n",
       "3                                0.17   \n",
       "4                               -0.99   \n",
       "\n",
       "   Chronic Obstructive Pulmonary Disease  Hospitalization  \n",
       "0                                          44.883333       \n",
       "1                                         180.250000       \n",
       "2                                         119.088889       \n",
       "3                                         131.144444       \n",
       "4                                         100.688889       \n",
       "\n",
       "[5 rows x 23 columns]"
      ]
     },
     "execution_count": 3,
     "metadata": {},
     "output_type": "execute_result"
    }
   ],
   "source": [
    "Model_I.head()"
   ]
  },
  {
   "cell_type": "code",
   "execution_count": 4,
   "metadata": {},
   "outputs": [
    {
     "name": "stdout",
     "output_type": "stream",
     "text": [
      "[('Neighborhood Race/Ethnicity - Non Hispanic White', 'Neighborhood Race/Ethnicity - Non Hispanic Black')]\n"
     ]
    }
   ],
   "source": [
    "from pgmpy.estimators import HillClimbSearch\n",
    "from pgmpy.estimators import BicScore\n",
    "hc = HillClimbSearch(Model_I, scoring_method=BicScore(Model_I))\n",
    "best_model = hc.estimate()\n",
    "print(best_model.edges())"
   ]
  },
  {
   "cell_type": "code",
   "execution_count": 5,
   "metadata": {},
   "outputs": [
    {
     "data": {
      "text/plain": [
       "23"
      ]
     },
     "execution_count": 5,
     "metadata": {},
     "output_type": "execute_result"
    }
   ],
   "source": [
    "len(Model_I.columns)"
   ]
  },
  {
   "cell_type": "code",
   "execution_count": 6,
   "metadata": {},
   "outputs": [],
   "source": [
    "# X is Model_I w/o Neighborhood name\n",
    "X = Model_I.iloc[:,1:23]"
   ]
  },
  {
   "cell_type": "markdown",
   "metadata": {},
   "source": [
    "## Gaussian Mixture Clustering"
   ]
  },
  {
   "cell_type": "code",
   "execution_count": 7,
   "metadata": {},
   "outputs": [
    {
     "data": {
      "text/plain": [
       "GaussianMixture(covariance_type='full', init_params='kmeans', max_iter=100,\n",
       "        means_init=None, n_components=3, n_init=1, precisions_init=None,\n",
       "        random_state=999, reg_covar=1e-06, tol=0.001, verbose=0,\n",
       "        verbose_interval=10, warm_start=False, weights_init=None)"
      ]
     },
     "execution_count": 7,
     "metadata": {},
     "output_type": "execute_result"
    }
   ],
   "source": [
    "from sklearn.mixture import GaussianMixture\n",
    "GM=GaussianMixture(n_components=3,random_state=999)\n",
    "GM.fit(X)"
   ]
  },
  {
   "cell_type": "code",
   "execution_count": 8,
   "metadata": {},
   "outputs": [
    {
     "data": {
      "image/png": "[encoded data removed]",
      "text/plain": [
       "<Figure size 1440x288 with 1 Axes>"
      ]
     },
     "metadata": {
      "needs_background": "light"
     },
     "output_type": "display_data"
    }
   ],
   "source": [
    "# score_samples function gives the log of the probability density of each data record given its cluster.\n",
    "# Note that probability densities can exceed 1 (unlike probabilities of discrete data).\n",
    "import matplotlib.pylab as plt\n",
    "plt.figure(figsize=(20,4))\n",
    "plt.scatter(range(len(X)),GM.score_samples(X)) #gives each data record's log-likelihood. allows for direct anamoly detection\n",
    "plt.plot(GM.score_samples(X),\"r--\")\n",
    "plt.show()"
   ]
  },
  {
   "cell_type": "code",
   "execution_count": 9,
   "metadata": {},
   "outputs": [
    {
     "data": {
      "text/html": [
       "<div>\n",
       "<style scoped>\n",
       "    .dataframe tbody tr th:only-of-type {\n",
       "        vertical-align: middle;\n",
       "    }\n",
       "\n",
       "    .dataframe tbody tr th {\n",
       "        vertical-align: top;\n",
       "    }\n",
       "\n",
       "    .dataframe thead th {\n",
       "        text-align: right;\n",
       "    }\n",
       "</style>\n",
       "<table border=\"1\" class=\"dataframe\">\n",
       "  <thead>\n",
       "    <tr style=\"text-align: right;\">\n",
       "      <th></th>\n",
       "      <th>0</th>\n",
       "    </tr>\n",
       "  </thead>\n",
       "  <tbody>\n",
       "    <tr>\n",
       "      <th>22</th>\n",
       "      <td>-18.164080</td>\n",
       "    </tr>\n",
       "    <tr>\n",
       "      <th>16</th>\n",
       "      <td>-18.163984</td>\n",
       "    </tr>\n",
       "    <tr>\n",
       "      <th>2</th>\n",
       "      <td>-18.163572</td>\n",
       "    </tr>\n",
       "    <tr>\n",
       "      <th>6</th>\n",
       "      <td>-18.162532</td>\n",
       "    </tr>\n",
       "    <tr>\n",
       "      <th>24</th>\n",
       "      <td>-18.161988</td>\n",
       "    </tr>\n",
       "  </tbody>\n",
       "</table>\n",
       "</div>"
      ],
      "text/plain": [
       "            0\n",
       "22 -18.164080\n",
       "16 -18.163984\n",
       "2  -18.163572\n",
       "6  -18.162532\n",
       "24 -18.161988"
      ]
     },
     "execution_count": 9,
     "metadata": {},
     "output_type": "execute_result"
    }
   ],
   "source": [
    "# 5 most anomalous data points by log-likelihood (i.e. log probability density)\n",
    "pd.DataFrame(GM.score_samples(X)).sort_values(0)[:5]"
   ]
  },
  {
   "cell_type": "code",
   "execution_count": 10,
   "metadata": {},
   "outputs": [
    {
     "data": {
      "text/html": [
       "<div>\n",
       "<style scoped>\n",
       "    .dataframe tbody tr th:only-of-type {\n",
       "        vertical-align: middle;\n",
       "    }\n",
       "\n",
       "    .dataframe tbody tr th {\n",
       "        vertical-align: top;\n",
       "    }\n",
       "\n",
       "    .dataframe thead th {\n",
       "        text-align: right;\n",
       "    }\n",
       "</style>\n",
       "<table border=\"1\" class=\"dataframe\">\n",
       "  <thead>\n",
       "    <tr style=\"text-align: right;\">\n",
       "      <th></th>\n",
       "      <th>Neighborhood-index</th>\n",
       "      <th>Adults Reporting Exercise in the Past 30 Days</th>\n",
       "      <th>Adults Reporting Secondhand Smoke at Home</th>\n",
       "      <th>Adults with Asthma in the Past 12 Months</th>\n",
       "      <th>Adults with High Cholesterol</th>\n",
       "      <th>Adults without a Smoke-Free Home Policy</th>\n",
       "      <th>Air Toxics Concentrations- Average Benzene Concentrations</th>\n",
       "      <th>Air Toxics Concentrations- Average Formaldehyde Concentrations</th>\n",
       "      <th>Asthma Hospitalizations (Adults)</th>\n",
       "      <th>Asthma Hospitalizations (Children 0 to 4 Yrs Old)</th>\n",
       "      <th>...</th>\n",
       "      <th>Cigarette Smoking among Adults</th>\n",
       "      <th>Fine Particulate Matter (PM2.5)</th>\n",
       "      <th>Neighborhood Race/Ethnicity - Non Hispanic Black</th>\n",
       "      <th>Neighborhood Race/Ethnicity - Non Hispanic White</th>\n",
       "      <th>Nitric Oxide (NO)</th>\n",
       "      <th>Nitrogen Dioxide (NO2)</th>\n",
       "      <th>Overweight or Obese Adults</th>\n",
       "      <th>predicted annual average fine particulate matter &lt;2.5 microns</th>\n",
       "      <th>Walkability Index (Infrastructure)</th>\n",
       "      <th>Chronic Obstructive Pulmonary Disease  Hospitalization</th>\n",
       "    </tr>\n",
       "  </thead>\n",
       "  <tbody>\n",
       "    <tr>\n",
       "      <th>22</th>\n",
       "      <td>Kingsbridge - Riverdale</td>\n",
       "      <td>75.000000</td>\n",
       "      <td>2.850</td>\n",
       "      <td>3.991667</td>\n",
       "      <td>35.1625</td>\n",
       "      <td>22.38</td>\n",
       "      <td>1.6</td>\n",
       "      <td>2.2</td>\n",
       "      <td>82.344444</td>\n",
       "      <td>47.750000</td>\n",
       "      <td>...</td>\n",
       "      <td>11.466667</td>\n",
       "      <td>10.094000</td>\n",
       "      <td>2</td>\n",
       "      <td>2</td>\n",
       "      <td>20.610000</td>\n",
       "      <td>20.604000</td>\n",
       "      <td>55.800000</td>\n",
       "      <td>10.088418</td>\n",
       "      <td>-2.42</td>\n",
       "      <td>64.611111</td>\n",
       "    </tr>\n",
       "    <tr>\n",
       "      <th>16</th>\n",
       "      <td>Gramercy Park - Murray Hill</td>\n",
       "      <td>87.400000</td>\n",
       "      <td>1.625</td>\n",
       "      <td>2.575000</td>\n",
       "      <td>30.1000</td>\n",
       "      <td>22.90</td>\n",
       "      <td>2.8</td>\n",
       "      <td>2.8</td>\n",
       "      <td>35.016667</td>\n",
       "      <td>22.725000</td>\n",
       "      <td>...</td>\n",
       "      <td>13.316667</td>\n",
       "      <td>13.893333</td>\n",
       "      <td>1</td>\n",
       "      <td>3</td>\n",
       "      <td>47.506667</td>\n",
       "      <td>38.820000</td>\n",
       "      <td>41.150000</td>\n",
       "      <td>14.181719</td>\n",
       "      <td>6.08</td>\n",
       "      <td>47.472222</td>\n",
       "    </tr>\n",
       "    <tr>\n",
       "      <th>2</th>\n",
       "      <td>Bensonhurst - Bay Ridge</td>\n",
       "      <td>71.883333</td>\n",
       "      <td>4.850</td>\n",
       "      <td>1.050000</td>\n",
       "      <td>34.8375</td>\n",
       "      <td>29.16</td>\n",
       "      <td>1.6</td>\n",
       "      <td>2.0</td>\n",
       "      <td>58.927778</td>\n",
       "      <td>17.591667</td>\n",
       "      <td>...</td>\n",
       "      <td>18.216667</td>\n",
       "      <td>9.210667</td>\n",
       "      <td>1</td>\n",
       "      <td>3</td>\n",
       "      <td>18.699333</td>\n",
       "      <td>20.423333</td>\n",
       "      <td>52.400000</td>\n",
       "      <td>9.208983</td>\n",
       "      <td>0.24</td>\n",
       "      <td>119.088889</td>\n",
       "    </tr>\n",
       "    <tr>\n",
       "      <th>6</th>\n",
       "      <td>Chelsea - Clinton</td>\n",
       "      <td>86.616667</td>\n",
       "      <td>4.300</td>\n",
       "      <td>3.191667</td>\n",
       "      <td>27.5875</td>\n",
       "      <td>27.06</td>\n",
       "      <td>3.1</td>\n",
       "      <td>2.9</td>\n",
       "      <td>65.133333</td>\n",
       "      <td>24.800000</td>\n",
       "      <td>...</td>\n",
       "      <td>14.500000</td>\n",
       "      <td>13.165333</td>\n",
       "      <td>1</td>\n",
       "      <td>3</td>\n",
       "      <td>42.667333</td>\n",
       "      <td>36.168667</td>\n",
       "      <td>37.400000</td>\n",
       "      <td>13.957962</td>\n",
       "      <td>7.09</td>\n",
       "      <td>63.722222</td>\n",
       "    </tr>\n",
       "    <tr>\n",
       "      <th>24</th>\n",
       "      <td>Lower Manhattan</td>\n",
       "      <td>82.250000</td>\n",
       "      <td>4.750</td>\n",
       "      <td>4.033333</td>\n",
       "      <td>23.2625</td>\n",
       "      <td>31.62</td>\n",
       "      <td>2.1</td>\n",
       "      <td>2.3</td>\n",
       "      <td>19.366667</td>\n",
       "      <td>16.308333</td>\n",
       "      <td>...</td>\n",
       "      <td>16.066667</td>\n",
       "      <td>11.956000</td>\n",
       "      <td>1</td>\n",
       "      <td>3</td>\n",
       "      <td>32.994667</td>\n",
       "      <td>32.971333</td>\n",
       "      <td>42.833333</td>\n",
       "      <td>11.198379</td>\n",
       "      <td>8.42</td>\n",
       "      <td>21.122222</td>\n",
       "    </tr>\n",
       "  </tbody>\n",
       "</table>\n",
       "<p>5 rows × 23 columns</p>\n",
       "</div>"
      ],
      "text/plain": [
       "             Neighborhood-index  \\\n",
       "22      Kingsbridge - Riverdale   \n",
       "16  Gramercy Park - Murray Hill   \n",
       "2       Bensonhurst - Bay Ridge   \n",
       "6             Chelsea - Clinton   \n",
       "24              Lower Manhattan   \n",
       "\n",
       "    Adults Reporting Exercise in the Past 30 Days  \\\n",
       "22                                      75.000000   \n",
       "16                                      87.400000   \n",
       "2                                       71.883333   \n",
       "6                                       86.616667   \n",
       "24                                      82.250000   \n",
       "\n",
       "    Adults Reporting Secondhand Smoke at Home  \\\n",
       "22                                      2.850   \n",
       "16                                      1.625   \n",
       "2                                       4.850   \n",
       "6                                       4.300   \n",
       "24                                      4.750   \n",
       "\n",
       "    Adults with Asthma in the Past 12 Months  Adults with High Cholesterol  \\\n",
       "22                                  3.991667                       35.1625   \n",
       "16                                  2.575000                       30.1000   \n",
       "2                                   1.050000                       34.8375   \n",
       "6                                   3.191667                       27.5875   \n",
       "24                                  4.033333                       23.2625   \n",
       "\n",
       "    Adults without a Smoke-Free Home Policy  \\\n",
       "22                                    22.38   \n",
       "16                                    22.90   \n",
       "2                                     29.16   \n",
       "6                                     27.06   \n",
       "24                                    31.62   \n",
       "\n",
       "    Air Toxics Concentrations- Average Benzene Concentrations  \\\n",
       "22                                                1.6           \n",
       "16                                                2.8           \n",
       "2                                                 1.6           \n",
       "6                                                 3.1           \n",
       "24                                                2.1           \n",
       "\n",
       "    Air Toxics Concentrations- Average Formaldehyde Concentrations  \\\n",
       "22                                                2.2                \n",
       "16                                                2.8                \n",
       "2                                                 2.0                \n",
       "6                                                 2.9                \n",
       "24                                                2.3                \n",
       "\n",
       "    Asthma Hospitalizations (Adults)  \\\n",
       "22                         82.344444   \n",
       "16                         35.016667   \n",
       "2                          58.927778   \n",
       "6                          65.133333   \n",
       "24                         19.366667   \n",
       "\n",
       "    Asthma Hospitalizations (Children 0 to 4 Yrs Old)  ...  \\\n",
       "22                                          47.750000  ...   \n",
       "16                                          22.725000  ...   \n",
       "2                                           17.591667  ...   \n",
       "6                                           24.800000  ...   \n",
       "24                                          16.308333  ...   \n",
       "\n",
       "    Cigarette Smoking among Adults  Fine Particulate Matter (PM2.5)  \\\n",
       "22                       11.466667                        10.094000   \n",
       "16                       13.316667                        13.893333   \n",
       "2                        18.216667                         9.210667   \n",
       "6                        14.500000                        13.165333   \n",
       "24                       16.066667                        11.956000   \n",
       "\n",
       "    Neighborhood Race/Ethnicity - Non Hispanic Black  \\\n",
       "22                                                 2   \n",
       "16                                                 1   \n",
       "2                                                  1   \n",
       "6                                                  1   \n",
       "24                                                 1   \n",
       "\n",
       "    Neighborhood Race/Ethnicity - Non Hispanic White  Nitric Oxide (NO)  \\\n",
       "22                                                 2          20.610000   \n",
       "16                                                 3          47.506667   \n",
       "2                                                  3          18.699333   \n",
       "6                                                  3          42.667333   \n",
       "24                                                 3          32.994667   \n",
       "\n",
       "    Nitrogen Dioxide (NO2)  Overweight or Obese Adults  \\\n",
       "22               20.604000                   55.800000   \n",
       "16               38.820000                   41.150000   \n",
       "2                20.423333                   52.400000   \n",
       "6                36.168667                   37.400000   \n",
       "24               32.971333                   42.833333   \n",
       "\n",
       "    predicted annual average fine particulate matter <2.5 microns  \\\n",
       "22                                          10.088418               \n",
       "16                                          14.181719               \n",
       "2                                            9.208983               \n",
       "6                                           13.957962               \n",
       "24                                          11.198379               \n",
       "\n",
       "    Walkability Index (Infrastructure)  \\\n",
       "22                               -2.42   \n",
       "16                                6.08   \n",
       "2                                 0.24   \n",
       "6                                 7.09   \n",
       "24                                8.42   \n",
       "\n",
       "    Chronic Obstructive Pulmonary Disease  Hospitalization  \n",
       "22                                          64.611111       \n",
       "16                                          47.472222       \n",
       "2                                          119.088889       \n",
       "6                                           63.722222       \n",
       "24                                          21.122222       \n",
       "\n",
       "[5 rows x 23 columns]"
      ]
     },
     "execution_count": 10,
     "metadata": {},
     "output_type": "execute_result"
    }
   ],
   "source": [
    "Model_I.iloc[[22,16, 2, 6, 24],:]\n",
    "\n",
    "#Model_I[6]"
   ]
  },
  {
   "cell_type": "code",
   "execution_count": 16,
   "metadata": {},
   "outputs": [
    {
     "data": {
      "text/plain": [
       "Index([u'Neighborhood-index', u'Adults Reporting Exercise in the Past 30 Days',\n",
       "       u'Adults Reporting Secondhand Smoke at Home',\n",
       "       u'Adults with Asthma in the Past 12 Months',\n",
       "       u'Adults with High Cholesterol',\n",
       "       u'Adults without a Smoke-Free Home Policy',\n",
       "       u'Air Toxics Concentrations- Average Benzene Concentrations',\n",
       "       u'Air Toxics Concentrations- Average Formaldehyde Concentrations',\n",
       "       u'Asthma Hospitalizations (Adults)',\n",
       "       u'Asthma Hospitalizations (Children 0 to 4 Yrs Old)',\n",
       "       u'Asthma Hospitalizations (Children 5 to 17 Yrs Old)', u'Black Carbon',\n",
       "       u'Boiler Emissions- Total PM2.5 Emissions',\n",
       "       u'Cigarette Smoking among Adults', u'Fine Particulate Matter (PM2.5)',\n",
       "       u'Neighborhood Race/Ethnicity - Non Hispanic Black',\n",
       "       u'Neighborhood Race/Ethnicity - Non Hispanic White',\n",
       "       u'Nitric Oxide (NO)', u'Nitrogen Dioxide (NO2)',\n",
       "       u'Overweight or Obese Adults',\n",
       "       u'predicted annual average fine particulate matter <2.5 microns',\n",
       "       u'Walkability Index (Infrastructure)',\n",
       "       u'Chronic Obstructive Pulmonary Disease  Hospitalization'],\n",
       "      dtype='object')"
      ]
     },
     "execution_count": 16,
     "metadata": {},
     "output_type": "execute_result"
    }
   ],
   "source": [
    "Model_I.columns"
   ]
  },
  {
   "cell_type": "code",
   "execution_count": 17,
   "metadata": {},
   "outputs": [
    {
     "data": {
      "text/html": [
       "<div>\n",
       "<style scoped>\n",
       "    .dataframe tbody tr th:only-of-type {\n",
       "        vertical-align: middle;\n",
       "    }\n",
       "\n",
       "    .dataframe tbody tr th {\n",
       "        vertical-align: top;\n",
       "    }\n",
       "\n",
       "    .dataframe thead th {\n",
       "        text-align: right;\n",
       "    }\n",
       "</style>\n",
       "<table border=\"1\" class=\"dataframe\">\n",
       "  <thead>\n",
       "    <tr style=\"text-align: right;\">\n",
       "      <th></th>\n",
       "      <th>Neighborhood-index</th>\n",
       "      <th>Chronic Obstructive Pulmonary Disease  Hospitalization</th>\n",
       "    </tr>\n",
       "  </thead>\n",
       "  <tbody>\n",
       "    <tr>\n",
       "      <th>22</th>\n",
       "      <td>Kingsbridge - Riverdale</td>\n",
       "      <td>64.611111</td>\n",
       "    </tr>\n",
       "    <tr>\n",
       "      <th>16</th>\n",
       "      <td>Gramercy Park - Murray Hill</td>\n",
       "      <td>47.472222</td>\n",
       "    </tr>\n",
       "    <tr>\n",
       "      <th>2</th>\n",
       "      <td>Bensonhurst - Bay Ridge</td>\n",
       "      <td>119.088889</td>\n",
       "    </tr>\n",
       "    <tr>\n",
       "      <th>6</th>\n",
       "      <td>Chelsea - Clinton</td>\n",
       "      <td>63.722222</td>\n",
       "    </tr>\n",
       "    <tr>\n",
       "      <th>24</th>\n",
       "      <td>Lower Manhattan</td>\n",
       "      <td>21.122222</td>\n",
       "    </tr>\n",
       "  </tbody>\n",
       "</table>\n",
       "</div>"
      ],
      "text/plain": [
       "             Neighborhood-index  \\\n",
       "22      Kingsbridge - Riverdale   \n",
       "16  Gramercy Park - Murray Hill   \n",
       "2       Bensonhurst - Bay Ridge   \n",
       "6             Chelsea - Clinton   \n",
       "24              Lower Manhattan   \n",
       "\n",
       "    Chronic Obstructive Pulmonary Disease  Hospitalization  \n",
       "22                                          64.611111       \n",
       "16                                          47.472222       \n",
       "2                                          119.088889       \n",
       "6                                           63.722222       \n",
       "24                                          21.122222       "
      ]
     },
     "execution_count": 17,
     "metadata": {},
     "output_type": "execute_result"
    }
   ],
   "source": [
    "Neighborhood_COPD = Model_I[['Neighborhood-index', 'Chronic Obstructive Pulmonary Disease  Hospitalization']]\n",
    "Neighborhood_COPD.iloc[[22,16, 2, 6, 24],:]"
   ]
  },
  {
   "cell_type": "markdown",
   "metadata": {},
   "source": [
    "## K-means Model I"
   ]
  },
  {
   "cell_type": "code",
   "execution_count": 18,
   "metadata": {},
   "outputs": [
    {
     "name": "stderr",
     "output_type": "stream",
     "text": [
      "C:\\Users\\aniha\\Anaconda3\\envs\\TwentySevenVersion\\lib\\site-packages\\ipykernel_launcher.py:5: DataConversionWarning: Data with input dtype int64, float64 were all converted to float64 by the scale function.\n",
      "  \"\"\"\n"
     ]
    }
   ],
   "source": [
    "# make each column have mean = 0 and std dev = 1\n",
    "# Normalizing data through pre-processing package\n",
    "# X_scaled is a df that's X normalized with the package\n",
    "\n",
    "X_scaled = preprocessing.scale(X)"
   ]
  },
  {
   "cell_type": "code",
   "execution_count": 29,
   "metadata": {},
   "outputs": [
    {
     "data": {
      "text/html": [
       "<div>\n",
       "<style scoped>\n",
       "    .dataframe tbody tr th:only-of-type {\n",
       "        vertical-align: middle;\n",
       "    }\n",
       "\n",
       "    .dataframe tbody tr th {\n",
       "        vertical-align: top;\n",
       "    }\n",
       "\n",
       "    .dataframe thead th {\n",
       "        text-align: right;\n",
       "    }\n",
       "</style>\n",
       "<table border=\"1\" class=\"dataframe\">\n",
       "  <thead>\n",
       "    <tr style=\"text-align: right;\">\n",
       "      <th></th>\n",
       "      <th>Neighborhood-index</th>\n",
       "      <th>Chronic Obstructive Pulmonary Disease  Hospitalization</th>\n",
       "      <th>K-means</th>\n",
       "    </tr>\n",
       "  </thead>\n",
       "  <tbody>\n",
       "    <tr>\n",
       "      <th>19</th>\n",
       "      <td>High Bridge - Morrisania</td>\n",
       "      <td>183.555556</td>\n",
       "      <td>5.444397</td>\n",
       "    </tr>\n",
       "    <tr>\n",
       "      <th>8</th>\n",
       "      <td>Crotona -Tremont</td>\n",
       "      <td>139.905556</td>\n",
       "      <td>5.290199</td>\n",
       "    </tr>\n",
       "    <tr>\n",
       "      <th>31</th>\n",
       "      <td>Southeast Queens</td>\n",
       "      <td>82.333333</td>\n",
       "      <td>4.831163</td>\n",
       "    </tr>\n",
       "    <tr>\n",
       "      <th>29</th>\n",
       "      <td>Rockaways</td>\n",
       "      <td>173.461111</td>\n",
       "      <td>4.745670</td>\n",
       "    </tr>\n",
       "    <tr>\n",
       "      <th>1</th>\n",
       "      <td>Bedford Stuyvesant - Crown Heights</td>\n",
       "      <td>180.250000</td>\n",
       "      <td>4.737643</td>\n",
       "    </tr>\n",
       "  </tbody>\n",
       "</table>\n",
       "</div>"
      ],
      "text/plain": [
       "                    Neighborhood-index  \\\n",
       "19            High Bridge - Morrisania   \n",
       "8                     Crotona -Tremont   \n",
       "31                    Southeast Queens   \n",
       "29                           Rockaways   \n",
       "1   Bedford Stuyvesant - Crown Heights   \n",
       "\n",
       "    Chronic Obstructive Pulmonary Disease  Hospitalization   K-means  \n",
       "19                                         183.555556       5.444397  \n",
       "8                                          139.905556       5.290199  \n",
       "31                                          82.333333       4.831163  \n",
       "29                                         173.461111       4.745670  \n",
       "1                                          180.250000       4.737643  "
      ]
     },
     "execution_count": 29,
     "metadata": {},
     "output_type": "execute_result"
    }
   ],
   "source": [
    "from sklearn.cluster import KMeans\n",
    "KM_scaled=KMeans(n_clusters=2,random_state=999)\n",
    "scor_scaled=KM_scaled.fit_predict(X_scaled)\n",
    "\n",
    "# distance to each cluster center\n",
    "res_scaled=pd.DataFrame(KM_scaled.transform(X_scaled))\n",
    "res_scaled.head()\n",
    "\n",
    "\n",
    "res_scaled=pd.concat((res_scaled,pd.DataFrame(KM_scaled.fit_predict(X_scaled))),axis=1)\n",
    "res_scaled.columns=list(range(2))+[\"cluster\"]\n",
    "res_scaled.loc[:,\"score\"]=res_scaled.apply(lambda x: x[int(x[\"cluster\"])],axis=1)\n",
    "\n",
    "# find data records farthest from cluster centers\n",
    "res_scaled.sort_values(\"score\",ascending=False)[:5]\n",
    "\n",
    "\n",
    "\n",
    "x_scaled = res_scaled.loc[:,\"score\"]\n",
    "df_Nscaled = Model_I\n",
    "df_Nscaled = df_Nscaled.reset_index()\n",
    "df_Nscaled['K-means'] = x_scaled\n",
    "df_Kscaled = df_Nscaled[['Neighborhood-index','Chronic Obstructive Pulmonary Disease  Hospitalization', 'K-means']]\n",
    "df_Kscaled.nlargest(5, 'K-means')"
   ]
  },
  {
   "cell_type": "code",
   "execution_count": 21,
   "metadata": {},
   "outputs": [
    {
     "data": {
      "image/png": "[encoded data removed]",
      "text/plain": [
       "<Figure size 432x288 with 1 Axes>"
      ]
     },
     "metadata": {
      "needs_background": "light"
     },
     "output_type": "display_data"
    }
   ],
   "source": [
    "x_scaled_first2cols = Model_I.iloc[:,1:3]\n",
    "x_scaled_first2cols['cluster'] = (res_scaled.loc[:,\"cluster\"])\n",
    "#plt.subplot(1,2,2)\n",
    "plt.scatter(x_scaled_first2cols.iloc[:,0], x_scaled_first2cols.iloc[:,1], c=x_scaled_first2cols['cluster'], cmap=plt.cm.cool)\n",
    "#plt.xlabel('x1')\n",
    "#plt.ylabel('x2')\n",
    "#plt.xticks(())\n",
    "#plt.yticks(())\n",
    "plt.title(\"Kmeans-{} clusters\".format(2))\n",
    "plt.show()"
   ]
  },
  {
   "cell_type": "code",
   "execution_count": 22,
   "metadata": {},
   "outputs": [
    {
     "name": "stdout",
     "output_type": "stream",
     "text": [
      "For n_clusters =2, the average silhouette_score is :0.605914840861\n",
      "For n_clusters =3, the average silhouette_score is :0.420314259801\n",
      "For n_clusters =4, the average silhouette_score is :0.46630861084\n"
     ]
    }
   ],
   "source": [
    "from sklearn.metrics import silhouette_samples, silhouette_score\n",
    "import matplotlib.cm as cm\n",
    "import numpy as np\n",
    "\n",
    "range_n_clusters = [2, 3, 4]\n",
    "for n_clusters in range_n_clusters: #try different numbers of clusters\n",
    "    km_scaled = KMeans(n_clusters=n_clusters, random_state=999)\n",
    "    cluster_labels = km_scaled.fit_predict(x_scaled_first2cols.iloc[:,0:2])\n",
    "    #report average Silhouette score\n",
    "    silhouette_avg = silhouette_score(x_scaled_first2cols.iloc[:,0:2], cluster_labels)\n",
    "    print(\"For n_clusters ={},\".format(n_clusters)+\" the average silhouette_score is :{}\".format(silhouette_avg))"
   ]
  },
  {
   "cell_type": "markdown",
   "metadata": {},
   "source": [
    "## K-Means Model I\n",
    "Normalized with mean/std/sigma"
   ]
  },
  {
   "cell_type": "code",
   "execution_count": 13,
   "metadata": {},
   "outputs": [],
   "source": [
    "# # normalization (from ADS regularization notebook)\n",
    "# # learn standardization parameters from training set\n",
    "\n",
    "#Here, we are normalizing through taking means/stds/sigma\n",
    "\n",
    "mu = X.mean()\n",
    "# #mu_y = y_train.mean()\n",
    "sigma = X.std()\n",
    "# #sigma_y = y_train.std()\n",
    "# # apply standardization to training and testing set\n",
    "X=(X-mu)/sigma\n",
    "# # X_test = (X_test - mu)/sigma\n",
    "# # y_train=(y_train-mu_y)/sigma_y\n",
    "# # y_test = (y_test - mu_y)/sigma_y"
   ]
  },
  {
   "cell_type": "code",
   "execution_count": 14,
   "metadata": {},
   "outputs": [
    {
     "data": {
      "text/html": [
       "<div>\n",
       "<style scoped>\n",
       "    .dataframe tbody tr th:only-of-type {\n",
       "        vertical-align: middle;\n",
       "    }\n",
       "\n",
       "    .dataframe tbody tr th {\n",
       "        vertical-align: top;\n",
       "    }\n",
       "\n",
       "    .dataframe thead th {\n",
       "        text-align: right;\n",
       "    }\n",
       "</style>\n",
       "<table border=\"1\" class=\"dataframe\">\n",
       "  <thead>\n",
       "    <tr style=\"text-align: right;\">\n",
       "      <th></th>\n",
       "      <th>0</th>\n",
       "      <th>1</th>\n",
       "    </tr>\n",
       "  </thead>\n",
       "  <tbody>\n",
       "    <tr>\n",
       "      <th>0</th>\n",
       "      <td>4.013207</td>\n",
       "      <td>7.685680</td>\n",
       "    </tr>\n",
       "    <tr>\n",
       "      <th>1</th>\n",
       "      <td>4.680903</td>\n",
       "      <td>9.725099</td>\n",
       "    </tr>\n",
       "    <tr>\n",
       "      <th>2</th>\n",
       "      <td>3.895550</td>\n",
       "      <td>7.909072</td>\n",
       "    </tr>\n",
       "    <tr>\n",
       "      <th>3</th>\n",
       "      <td>3.004421</td>\n",
       "      <td>7.537363</td>\n",
       "    </tr>\n",
       "    <tr>\n",
       "      <th>4</th>\n",
       "      <td>2.862092</td>\n",
       "      <td>8.842292</td>\n",
       "    </tr>\n",
       "  </tbody>\n",
       "</table>\n",
       "</div>"
      ],
      "text/plain": [
       "          0         1\n",
       "0  4.013207  7.685680\n",
       "1  4.680903  9.725099\n",
       "2  3.895550  7.909072\n",
       "3  3.004421  7.537363\n",
       "4  2.862092  8.842292"
      ]
     },
     "execution_count": 14,
     "metadata": {},
     "output_type": "execute_result"
    }
   ],
   "source": [
    "from sklearn.cluster import KMeans\n",
    "KM=KMeans(n_clusters=2,random_state=999)\n",
    "scor=KM.fit_predict(X)\n",
    "\n",
    "# distance to each cluster center\n",
    "res=pd.DataFrame(KM.transform(X))\n",
    "res.head()"
   ]
  },
  {
   "cell_type": "code",
   "execution_count": 15,
   "metadata": {},
   "outputs": [
    {
     "data": {
      "text/html": [
       "<div>\n",
       "<style scoped>\n",
       "    .dataframe tbody tr th:only-of-type {\n",
       "        vertical-align: middle;\n",
       "    }\n",
       "\n",
       "    .dataframe tbody tr th {\n",
       "        vertical-align: top;\n",
       "    }\n",
       "\n",
       "    .dataframe thead th {\n",
       "        text-align: right;\n",
       "    }\n",
       "</style>\n",
       "<table border=\"1\" class=\"dataframe\">\n",
       "  <thead>\n",
       "    <tr style=\"text-align: right;\">\n",
       "      <th></th>\n",
       "      <th>0</th>\n",
       "      <th>1</th>\n",
       "      <th>cluster</th>\n",
       "      <th>score</th>\n",
       "    </tr>\n",
       "  </thead>\n",
       "  <tbody>\n",
       "    <tr>\n",
       "      <th>19</th>\n",
       "      <td>5.379192</td>\n",
       "      <td>9.404216</td>\n",
       "      <td>0</td>\n",
       "      <td>5.379192</td>\n",
       "    </tr>\n",
       "    <tr>\n",
       "      <th>8</th>\n",
       "      <td>5.226841</td>\n",
       "      <td>9.257443</td>\n",
       "      <td>0</td>\n",
       "      <td>5.226841</td>\n",
       "    </tr>\n",
       "    <tr>\n",
       "      <th>31</th>\n",
       "      <td>4.773303</td>\n",
       "      <td>9.792839</td>\n",
       "      <td>0</td>\n",
       "      <td>4.773303</td>\n",
       "    </tr>\n",
       "    <tr>\n",
       "      <th>29</th>\n",
       "      <td>4.688833</td>\n",
       "      <td>11.100753</td>\n",
       "      <td>0</td>\n",
       "      <td>4.688833</td>\n",
       "    </tr>\n",
       "    <tr>\n",
       "      <th>1</th>\n",
       "      <td>4.680903</td>\n",
       "      <td>9.725099</td>\n",
       "      <td>0</td>\n",
       "      <td>4.680903</td>\n",
       "    </tr>\n",
       "  </tbody>\n",
       "</table>\n",
       "</div>"
      ],
      "text/plain": [
       "           0          1  cluster     score\n",
       "19  5.379192   9.404216        0  5.379192\n",
       "8   5.226841   9.257443        0  5.226841\n",
       "31  4.773303   9.792839        0  4.773303\n",
       "29  4.688833  11.100753        0  4.688833\n",
       "1   4.680903   9.725099        0  4.680903"
      ]
     },
     "execution_count": 15,
     "metadata": {},
     "output_type": "execute_result"
    }
   ],
   "source": [
    "res=pd.concat((res,pd.DataFrame(KM.fit_predict(X))),axis=1)\n",
    "res.columns=list(range(2))+[\"cluster\"]\n",
    "res.loc[:,\"score\"]=res.apply(lambda x: x[int(x[\"cluster\"])],axis=1)\n",
    "\n",
    "# find data records farthest from cluster centers\n",
    "res.sort_values(\"score\",ascending=False)[:5]"
   ]
  },
  {
   "cell_type": "code",
   "execution_count": 16,
   "metadata": {},
   "outputs": [
    {
     "data": {
      "text/html": [
       "<div>\n",
       "<style scoped>\n",
       "    .dataframe tbody tr th:only-of-type {\n",
       "        vertical-align: middle;\n",
       "    }\n",
       "\n",
       "    .dataframe tbody tr th {\n",
       "        vertical-align: top;\n",
       "    }\n",
       "\n",
       "    .dataframe thead th {\n",
       "        text-align: right;\n",
       "    }\n",
       "</style>\n",
       "<table border=\"1\" class=\"dataframe\">\n",
       "  <thead>\n",
       "    <tr style=\"text-align: right;\">\n",
       "      <th></th>\n",
       "      <th>Neighborhood-index</th>\n",
       "      <th>K-means</th>\n",
       "    </tr>\n",
       "  </thead>\n",
       "  <tbody>\n",
       "    <tr>\n",
       "      <th>19</th>\n",
       "      <td>High Bridge - Morrisania</td>\n",
       "      <td>5.379192</td>\n",
       "    </tr>\n",
       "    <tr>\n",
       "      <th>8</th>\n",
       "      <td>Crotona -Tremont</td>\n",
       "      <td>5.226841</td>\n",
       "    </tr>\n",
       "    <tr>\n",
       "      <th>31</th>\n",
       "      <td>Southeast Queens</td>\n",
       "      <td>4.773303</td>\n",
       "    </tr>\n",
       "    <tr>\n",
       "      <th>29</th>\n",
       "      <td>Rockaways</td>\n",
       "      <td>4.688833</td>\n",
       "    </tr>\n",
       "    <tr>\n",
       "      <th>1</th>\n",
       "      <td>Bedford Stuyvesant - Crown Heights</td>\n",
       "      <td>4.680903</td>\n",
       "    </tr>\n",
       "  </tbody>\n",
       "</table>\n",
       "</div>"
      ],
      "text/plain": [
       "                    Neighborhood-index   K-means\n",
       "19            High Bridge - Morrisania  5.379192\n",
       "8                     Crotona -Tremont  5.226841\n",
       "31                    Southeast Queens  4.773303\n",
       "29                           Rockaways  4.688833\n",
       "1   Bedford Stuyvesant - Crown Heights  4.680903"
      ]
     },
     "execution_count": 16,
     "metadata": {},
     "output_type": "execute_result"
    }
   ],
   "source": [
    "x = res.loc[:,\"score\"]\n",
    "df_N = Model_I\n",
    "df_N = df_N.reset_index()\n",
    "df_N['K-means'] = x\n",
    "df_K = df_N[['Neighborhood-index','K-means']]\n",
    "df_K.nlargest(5, 'K-means')"
   ]
  },
  {
   "cell_type": "code",
   "execution_count": 17,
   "metadata": {},
   "outputs": [],
   "source": [
    "# create a df that's just the first 2 numeric cols of Model_I\n",
    "# to be able to plot the cluster labels\n",
    "x_first2cols = Model_I.iloc[:,1:3]"
   ]
  },
  {
   "cell_type": "code",
   "execution_count": 18,
   "metadata": {},
   "outputs": [],
   "source": [
    "# add the cluster label to the df\n",
    "x_first2cols['cluster'] = (res.loc[:,\"cluster\"])"
   ]
  },
  {
   "cell_type": "code",
   "execution_count": 19,
   "metadata": {},
   "outputs": [
    {
     "data": {
      "image/png": "[encoded data removed]",
      "text/plain": [
       "<Figure size 432x288 with 1 Axes>"
      ]
     },
     "metadata": {
      "needs_background": "light"
     },
     "output_type": "display_data"
    }
   ],
   "source": [
    "#plt.subplot(1,2,2)\n",
    "plt.scatter(x_first2cols.iloc[:,0], x_first2cols.iloc[:,1], c=x_first2cols['cluster'], cmap=plt.cm.cool)\n",
    "#plt.xlabel('x1')\n",
    "#plt.ylabel('x2')\n",
    "#plt.xticks(())\n",
    "#plt.yticks(())\n",
    "plt.title(\"Kmeans-{} clusters\".format(2))\n",
    "plt.show()"
   ]
  },
  {
   "cell_type": "code",
   "execution_count": 20,
   "metadata": {},
   "outputs": [
    {
     "name": "stdout",
     "output_type": "stream",
     "text": [
      "For n_clusters =2, the average silhouette_score is :0.605914840861\n",
      "For n_clusters =3, the average silhouette_score is :0.420314259801\n",
      "For n_clusters =4, the average silhouette_score is :0.46630861084\n"
     ]
    }
   ],
   "source": [
    "from sklearn.metrics import silhouette_samples, silhouette_score\n",
    "import matplotlib.cm as cm\n",
    "import numpy as np\n",
    "\n",
    "range_n_clusters = [2, 3, 4]\n",
    "for n_clusters in range_n_clusters: #try different numbers of clusters\n",
    "    km = KMeans(n_clusters=n_clusters, random_state=999)\n",
    "    cluster_labels = km.fit_predict(x_first2cols.iloc[:,0:2])\n",
    "    #report average Silhouette score\n",
    "    silhouette_avg = silhouette_score(x_first2cols.iloc[:,0:2], cluster_labels)\n",
    "    print(\"For n_clusters ={},\".format(n_clusters)+\" the average silhouette_score is :{}\".format(silhouette_avg))"
   ]
  },
  {
   "cell_type": "markdown",
   "metadata": {},
   "source": [
    "### Isolation Forest Modeling"
   ]
  },
  {
   "cell_type": "code",
   "execution_count": 26,
   "metadata": {},
   "outputs": [],
   "source": [
    "from sklearn.ensemble import IsolationForest"
   ]
  },
  {
   "cell_type": "code",
   "execution_count": 27,
   "metadata": {},
   "outputs": [
    {
     "name": "stderr",
     "output_type": "stream",
     "text": [
      "C:\\Users\\aniha\\Anaconda3\\envs\\TwentySevenVersion\\lib\\site-packages\\sklearn\\ensemble\\iforest.py:417: DeprecationWarning: threshold_ attribute is deprecated in 0.20 and will be removed in 0.22.\n",
      "  \" be removed in 0.22.\", DeprecationWarning)\n"
     ]
    }
   ],
   "source": [
    "clf = IsolationForest(max_samples=50, random_state=123)\n",
    "clf.fit_predict(X)\n",
    "IsoForest = (clf.score_samples(X))"
   ]
  },
  {
   "cell_type": "code",
   "execution_count": 28,
   "metadata": {},
   "outputs": [
    {
     "data": {
      "text/html": [
       "<div>\n",
       "<style scoped>\n",
       "    .dataframe tbody tr th:only-of-type {\n",
       "        vertical-align: middle;\n",
       "    }\n",
       "\n",
       "    .dataframe tbody tr th {\n",
       "        vertical-align: top;\n",
       "    }\n",
       "\n",
       "    .dataframe thead th {\n",
       "        text-align: right;\n",
       "    }\n",
       "</style>\n",
       "<table border=\"1\" class=\"dataframe\">\n",
       "  <thead>\n",
       "    <tr style=\"text-align: right;\">\n",
       "      <th></th>\n",
       "      <th>Neighborhood-index</th>\n",
       "      <th>IsoFoScore</th>\n",
       "    </tr>\n",
       "  </thead>\n",
       "  <tbody>\n",
       "    <tr>\n",
       "      <th>16</th>\n",
       "      <td>Gramercy Park - Murray Hill</td>\n",
       "      <td>-0.545457</td>\n",
       "    </tr>\n",
       "    <tr>\n",
       "      <th>6</th>\n",
       "      <td>Chelsea - Clinton</td>\n",
       "      <td>-0.544389</td>\n",
       "    </tr>\n",
       "    <tr>\n",
       "      <th>18</th>\n",
       "      <td>Greenwich Village - SoHo</td>\n",
       "      <td>-0.529420</td>\n",
       "    </tr>\n",
       "    <tr>\n",
       "      <th>24</th>\n",
       "      <td>Lower Manhattan</td>\n",
       "      <td>-0.513293</td>\n",
       "    </tr>\n",
       "    <tr>\n",
       "      <th>29</th>\n",
       "      <td>Rockaways</td>\n",
       "      <td>-0.507330</td>\n",
       "    </tr>\n",
       "  </tbody>\n",
       "</table>\n",
       "</div>"
      ],
      "text/plain": [
       "             Neighborhood-index  IsoFoScore\n",
       "16  Gramercy Park - Murray Hill   -0.545457\n",
       "6             Chelsea - Clinton   -0.544389\n",
       "18     Greenwich Village - SoHo   -0.529420\n",
       "24              Lower Manhattan   -0.513293\n",
       "29                    Rockaways   -0.507330"
      ]
     },
     "execution_count": 28,
     "metadata": {},
     "output_type": "execute_result"
    }
   ],
   "source": [
    "#Iso_score = GM.score_samples(Data_Numeric.iloc[:,1:32])\n",
    "df_I = Model_I\n",
    "df_I = df_I.reset_index()\n",
    "df_I['IsoFoScore'] = IsoForest\n",
    "df_I = df_I[['Neighborhood-index','IsoFoScore']]\n",
    "df_I.nsmallest(5, 'IsoFoScore')"
   ]
  },
  {
   "cell_type": "markdown",
   "metadata": {},
   "source": [
    "## LOF Clustering"
   ]
  },
  {
   "cell_type": "code",
   "execution_count": 44,
   "metadata": {},
   "outputs": [],
   "source": [
    "from sklearn.neighbors import LocalOutlierFactor\n",
    "\n",
    "# fit the model\n",
    "clf_LOF = LocalOutlierFactor(n_neighbors=5)\n",
    "y_pred = clf_LOF.fit_predict(X)\n",
    "LOF = (clf_LOF.negative_outlier_factor_)"
   ]
  },
  {
   "cell_type": "code",
   "execution_count": 45,
   "metadata": {},
   "outputs": [
    {
     "data": {
      "text/html": [
       "<div>\n",
       "<style scoped>\n",
       "    .dataframe tbody tr th:only-of-type {\n",
       "        vertical-align: middle;\n",
       "    }\n",
       "\n",
       "    .dataframe tbody tr th {\n",
       "        vertical-align: top;\n",
       "    }\n",
       "\n",
       "    .dataframe thead th {\n",
       "        text-align: right;\n",
       "    }\n",
       "</style>\n",
       "<table border=\"1\" class=\"dataframe\">\n",
       "  <thead>\n",
       "    <tr style=\"text-align: right;\">\n",
       "      <th></th>\n",
       "      <th>Neighborhood-index</th>\n",
       "      <th>Chronic Obstructive Pulmonary Disease  Hospitalization</th>\n",
       "      <th>LOF_Score</th>\n",
       "    </tr>\n",
       "  </thead>\n",
       "  <tbody>\n",
       "    <tr>\n",
       "      <th>7</th>\n",
       "      <td>Coney Island - Sheepshead Bay</td>\n",
       "      <td>224.666667</td>\n",
       "      <td>-1.728014</td>\n",
       "    </tr>\n",
       "    <tr>\n",
       "      <th>40</th>\n",
       "      <td>Williamsburg - Bushwick</td>\n",
       "      <td>119.361111</td>\n",
       "      <td>-1.229656</td>\n",
       "    </tr>\n",
       "    <tr>\n",
       "      <th>39</th>\n",
       "      <td>West Queens</td>\n",
       "      <td>166.255556</td>\n",
       "      <td>-1.167139</td>\n",
       "    </tr>\n",
       "    <tr>\n",
       "      <th>30</th>\n",
       "      <td>South Beach - Tottenville</td>\n",
       "      <td>167.988889</td>\n",
       "      <td>-1.121515</td>\n",
       "    </tr>\n",
       "    <tr>\n",
       "      <th>29</th>\n",
       "      <td>Rockaways</td>\n",
       "      <td>173.461111</td>\n",
       "      <td>-1.114746</td>\n",
       "    </tr>\n",
       "  </tbody>\n",
       "</table>\n",
       "</div>"
      ],
      "text/plain": [
       "               Neighborhood-index  \\\n",
       "7   Coney Island - Sheepshead Bay   \n",
       "40        Williamsburg - Bushwick   \n",
       "39                    West Queens   \n",
       "30      South Beach - Tottenville   \n",
       "29                      Rockaways   \n",
       "\n",
       "    Chronic Obstructive Pulmonary Disease  Hospitalization  LOF_Score  \n",
       "7                                          224.666667       -1.728014  \n",
       "40                                         119.361111       -1.229656  \n",
       "39                                         166.255556       -1.167139  \n",
       "30                                         167.988889       -1.121515  \n",
       "29                                         173.461111       -1.114746  "
      ]
     },
     "execution_count": 45,
     "metadata": {},
     "output_type": "execute_result"
    }
   ],
   "source": [
    "# fit the model\n",
    "df_LOF = Model_I\n",
    "df_LOF = df_LOF.reset_index()\n",
    "df_LOF['LOF_Score'] = LOF\n",
    "df_LOF = df_LOF[['Neighborhood-index', 'Chronic Obstructive Pulmonary Disease  Hospitalization', 'LOF_Score']]\n",
    "df_LOF.nsmallest(5, 'LOF_Score')"
   ]
  },
  {
   "cell_type": "code",
   "execution_count": 46,
   "metadata": {},
   "outputs": [],
   "source": [
    "# reshape X to be able to plot LOF graph\n",
    "X_reshape = X.values.reshape(-2,2)"
   ]
  },
  {
   "cell_type": "code",
   "execution_count": 47,
   "metadata": {},
   "outputs": [
    {
     "data": {
      "text/plain": [
       "462"
      ]
     },
     "execution_count": 47,
     "metadata": {},
     "output_type": "execute_result"
    }
   ],
   "source": [
    "len(X_reshape)"
   ]
  },
  {
   "cell_type": "code",
   "execution_count": 48,
   "metadata": {},
   "outputs": [
    {
     "data": {
      "image/png": "[encoded data removed]",
      "text/plain": [
       "<Figure size 720x720 with 1 Axes>"
      ]
     },
     "metadata": {
      "needs_background": "light"
     },
     "output_type": "display_data"
    }
   ],
   "source": [
    "# fit the model\n",
    "clf_LOF = LocalOutlierFactor(n_neighbors=5)\n",
    "y_pred = clf_LOF.fit_predict(X_reshape)\n",
    "#y_pred_outliers = y_pred[200:]\n",
    "\n",
    "# plot the level sets of the decision function\n",
    "xx, yy = np.meshgrid(np.linspace(-10, 10, 100), np.linspace(-10, 10, 100))\n",
    "Z = clf_LOF._decision_function(np.c_[xx.ravel(), yy.ravel()])\n",
    "Z = Z.reshape(xx.shape)\n",
    "\n",
    "plt.figure(figsize=(10,10))\n",
    "\n",
    "\n",
    "plt.title(\"Local Outlier Factor (LOF)\")\n",
    "plt.contourf(xx, yy, Z, cmap=plt.cm.Blues_r)\n",
    "\n",
    "a = plt.scatter(X_reshape[:441, 0],X_reshape[:441, 1], c='black')\n",
    "b = plt.scatter(X_reshape[441:, 0], X_reshape[441:, 1], c='red')\n",
    "plt.axis('tight')\n",
    "plt.xlim((-5, 5))\n",
    "plt.ylim((-5, 5))\n",
    "plt.legend([a, b],\n",
    "           [\"normal observations\",\n",
    "            \"abnormal observations\"],\n",
    "           loc=\"upper left\")\n",
    "plt.show()"
   ]
  },
  {
   "cell_type": "markdown",
   "metadata": {},
   "source": [
    "## DBSCAN -- COPD NOT Included"
   ]
  },
  {
   "cell_type": "code",
   "execution_count": 29,
   "metadata": {},
   "outputs": [],
   "source": [
    "import numpy as np\n",
    "from sklearn.cluster import DBSCAN\n",
    "from sklearn.datasets.samples_generator import make_blobs\n",
    "import matplotlib.pyplot as plt\n",
    "import sklearn.datasets as data\n",
    "import sklearn.cluster as cluster\n",
    "import time\n",
    "from sklearn import cluster, datasets"
   ]
  },
  {
   "cell_type": "code",
   "execution_count": 30,
   "metadata": {},
   "outputs": [],
   "source": [
    "def visuDB(data,eps,min_samples):\n",
    "    db = DBSCAN(eps, min_samples).fit(data)\n",
    "    plt.figure(figsize=(6,6))\n",
    "    plt.scatter(X_reshape[:,0],X_reshape[:,1],c=db.labels_,s=10)\n",
    "    print \"Proportion of unclustered points=\",(1*(db.labels_ < 0)).mean()\n",
    "    plt.show()"
   ]
  },
  {
   "cell_type": "code",
   "execution_count": 31,
   "metadata": {},
   "outputs": [
    {
     "name": "stdout",
     "output_type": "stream",
     "text": [
      "Proportion of unclustered points= 0.049783549783549784\n"
     ]
    },
    {
     "data": {
      "image/png": "[encoded data removed]",
      "text/plain": [
       "<Figure size 432x432 with 1 Axes>"
      ]
     },
     "metadata": {
      "needs_background": "light"
     },
     "output_type": "display_data"
    }
   ],
   "source": [
    "visuDB(X_reshape,0.5,7)"
   ]
  },
  {
   "cell_type": "code",
   "execution_count": 32,
   "metadata": {},
   "outputs": [],
   "source": [
    "# your code here\n",
    "\n",
    "total_num_samples = len(X_reshape[:,0])\n",
    "max_eps = max(np.max(X_reshape[:,0])-np.min(X_reshape[:,0]),np.max(X_reshape[:,1])-np.min(X_reshape[:,1]))\n",
    "\n",
    "for eps in np.logspace(np.log10(max_eps)-3,np.log10(max_eps),10):\n",
    "    for min_samples in np.linspace(40,800,40,endpoint=True):\n",
    "        db = DBSCAN(eps, min_samples).fit(X_reshape)\n",
    "        num_clustered = len(db.labels_[db.labels_ >= 0])\n",
    "        if (num_clustered > 0) & (num_clustered < 0.1*total_num_samples):\n",
    "            dbb=db\n",
    "            plt.figure(figsize=(8,8))\n",
    "            print \"eps =\", eps, \", min_samples =\", min_samples, \", num_detected_points =\", len(db.labels_[db.labels_ >= 0])\n",
    "            \n",
    "            # evaluation\n",
    "            num_correct_clustered = len(db.labels_[0:100][db.labels_[0:100] >= 0])\n",
    "            print \"precision=\",1.0*num_correct_clustered/num_clustered,\"recall=\",1.0*num_correct_clustered/100.0\n",
    "            \n",
    "            plt.scatter(X_reshape[:,0],X_reshape[:,1],c=db.labels_,s=10,cmap=plt.cm.cool)\n",
    "            plt.show()"
   ]
  },
  {
   "cell_type": "code",
   "execution_count": null,
   "metadata": {},
   "outputs": [],
   "source": []
  }
 ],
 "metadata": {
  "kernelspec": {
   "display_name": "Python 2",
   "language": "python",
   "name": "python2"
  },
  "language_info": {
   "codemirror_mode": {
    "name": "ipython",
    "version": 2
   },
   "file_extension": ".py",
   "mimetype": "text/x-python",
   "name": "python",
   "nbconvert_exporter": "python",
   "pygments_lexer": "ipython2",
   "version": "2.7.16"
  }
 },
 "nbformat": 4,
 "nbformat_minor": 2
}
