{
 "cells": [
  {
   "cell_type": "code",
   "execution_count": 1,
   "metadata": {},
   "outputs": [],
   "source": [
    "import pandas as pd\n",
    "import numpy as np\n",
    "import statsmodels.formula.api as smf\n",
    "import matplotlib.pylab as plt\n",
    "import math\n",
    "from scipy import stats\n",
    "import geopandas as gpd\n",
    "%matplotlib inline\n",
    "from sklearn import preprocessing"
   ]
  },
  {
   "cell_type": "code",
   "execution_count": 2,
   "metadata": {},
   "outputs": [],
   "source": [
    "Model_III = pd.read_csv('Model III Delta 08-13.csv')"
   ]
  },
  {
   "cell_type": "code",
   "execution_count": 3,
   "metadata": {},
   "outputs": [
    {
     "data": {
      "text/html": [
       "<div>\n",
       "<style scoped>\n",
       "    .dataframe tbody tr th:only-of-type {\n",
       "        vertical-align: middle;\n",
       "    }\n",
       "\n",
       "    .dataframe tbody tr th {\n",
       "        vertical-align: top;\n",
       "    }\n",
       "\n",
       "    .dataframe thead th {\n",
       "        text-align: right;\n",
       "    }\n",
       "</style>\n",
       "<table border=\"1\" class=\"dataframe\">\n",
       "  <thead>\n",
       "    <tr style=\"text-align: right;\">\n",
       "      <th></th>\n",
       "      <th>Neighborhood-index</th>\n",
       "      <th>Adults Reporting Exercise in the Past 30 Days</th>\n",
       "      <th>Adults with Asthma in the Past 12 Months</th>\n",
       "      <th>Adults with High Cholesterol</th>\n",
       "      <th>Adults without a Smoke-Free Home Policy</th>\n",
       "      <th>Asthma Hospitalizations (Adults)</th>\n",
       "      <th>Asthma Hospitalizations (Children 0 to 4 Yrs Old)</th>\n",
       "      <th>Asthma Hospitalizations (Children 5 to 17 Yrs Old)</th>\n",
       "      <th>Cigarette Smoking among Adults</th>\n",
       "      <th>Chronic Obstructive Pulmonary Disease  Hospitalization</th>\n",
       "    </tr>\n",
       "  </thead>\n",
       "  <tbody>\n",
       "    <tr>\n",
       "      <th>0</th>\n",
       "      <td>Bayside - Little Neck</td>\n",
       "      <td>0.033333</td>\n",
       "      <td>0.365854</td>\n",
       "      <td>0.180495</td>\n",
       "      <td>-0.096774</td>\n",
       "      <td>0.081081</td>\n",
       "      <td>0.543224</td>\n",
       "      <td>0.607735</td>\n",
       "      <td>-0.171642</td>\n",
       "      <td>0.025947</td>\n",
       "    </tr>\n",
       "    <tr>\n",
       "      <th>1</th>\n",
       "      <td>Bedford Stuyvesant - Crown Heights</td>\n",
       "      <td>0.058901</td>\n",
       "      <td>-0.890625</td>\n",
       "      <td>0.230132</td>\n",
       "      <td>0.372937</td>\n",
       "      <td>0.078453</td>\n",
       "      <td>0.042582</td>\n",
       "      <td>-0.009199</td>\n",
       "      <td>0.290476</td>\n",
       "      <td>-0.217956</td>\n",
       "    </tr>\n",
       "    <tr>\n",
       "      <th>2</th>\n",
       "      <td>Bensonhurst - Bay Ridge</td>\n",
       "      <td>-0.064801</td>\n",
       "      <td>0.000000</td>\n",
       "      <td>0.051702</td>\n",
       "      <td>0.061303</td>\n",
       "      <td>-0.193673</td>\n",
       "      <td>0.165584</td>\n",
       "      <td>0.000000</td>\n",
       "      <td>0.077670</td>\n",
       "      <td>-0.058596</td>\n",
       "    </tr>\n",
       "    <tr>\n",
       "      <th>3</th>\n",
       "      <td>Borough Park</td>\n",
       "      <td>0.071749</td>\n",
       "      <td>-0.042857</td>\n",
       "      <td>0.207116</td>\n",
       "      <td>0.011111</td>\n",
       "      <td>0.210544</td>\n",
       "      <td>0.109612</td>\n",
       "      <td>0.067039</td>\n",
       "      <td>-0.798246</td>\n",
       "      <td>0.033032</td>\n",
       "    </tr>\n",
       "    <tr>\n",
       "      <th>4</th>\n",
       "      <td>Canarsie - Flatlands</td>\n",
       "      <td>0.180593</td>\n",
       "      <td>-0.416667</td>\n",
       "      <td>0.184300</td>\n",
       "      <td>0.125000</td>\n",
       "      <td>0.062060</td>\n",
       "      <td>-0.264089</td>\n",
       "      <td>-0.495238</td>\n",
       "      <td>0.390244</td>\n",
       "      <td>-0.124864</td>\n",
       "    </tr>\n",
       "  </tbody>\n",
       "</table>\n",
       "</div>"
      ],
      "text/plain": [
       "                   Neighborhood-index  \\\n",
       "0               Bayside - Little Neck   \n",
       "1  Bedford Stuyvesant - Crown Heights   \n",
       "2             Bensonhurst - Bay Ridge   \n",
       "3                        Borough Park   \n",
       "4                Canarsie - Flatlands   \n",
       "\n",
       "   Adults Reporting Exercise in the Past 30 Days  \\\n",
       "0                                       0.033333   \n",
       "1                                       0.058901   \n",
       "2                                      -0.064801   \n",
       "3                                       0.071749   \n",
       "4                                       0.180593   \n",
       "\n",
       "   Adults with Asthma in the Past 12 Months  Adults with High Cholesterol  \\\n",
       "0                                  0.365854                      0.180495   \n",
       "1                                 -0.890625                      0.230132   \n",
       "2                                  0.000000                      0.051702   \n",
       "3                                 -0.042857                      0.207116   \n",
       "4                                 -0.416667                      0.184300   \n",
       "\n",
       "   Adults without a Smoke-Free Home Policy  Asthma Hospitalizations (Adults)  \\\n",
       "0                                -0.096774                          0.081081   \n",
       "1                                 0.372937                          0.078453   \n",
       "2                                 0.061303                         -0.193673   \n",
       "3                                 0.011111                          0.210544   \n",
       "4                                 0.125000                          0.062060   \n",
       "\n",
       "   Asthma Hospitalizations (Children 0 to 4 Yrs Old)  \\\n",
       "0                                           0.543224   \n",
       "1                                           0.042582   \n",
       "2                                           0.165584   \n",
       "3                                           0.109612   \n",
       "4                                          -0.264089   \n",
       "\n",
       "   Asthma Hospitalizations (Children 5 to 17 Yrs Old)  \\\n",
       "0                                           0.607735    \n",
       "1                                          -0.009199    \n",
       "2                                           0.000000    \n",
       "3                                           0.067039    \n",
       "4                                          -0.495238    \n",
       "\n",
       "   Cigarette Smoking among Adults  \\\n",
       "0                       -0.171642   \n",
       "1                        0.290476   \n",
       "2                        0.077670   \n",
       "3                       -0.798246   \n",
       "4                        0.390244   \n",
       "\n",
       "   Chronic Obstructive Pulmonary Disease  Hospitalization  \n",
       "0                                           0.025947       \n",
       "1                                          -0.217956       \n",
       "2                                          -0.058596       \n",
       "3                                           0.033032       \n",
       "4                                          -0.124864       "
      ]
     },
     "execution_count": 3,
     "metadata": {},
     "output_type": "execute_result"
    }
   ],
   "source": [
    "Model_III.head()"
   ]
  },
  {
   "cell_type": "code",
   "execution_count": 12,
   "metadata": {},
   "outputs": [
    {
     "name": "stdout",
     "output_type": "stream",
     "text": [
      "[]\n"
     ]
    }
   ],
   "source": [
    "from pgmpy.estimators import HillClimbSearch\n",
    "from pgmpy.estimators import BicScore\n",
    "hc = HillClimbSearch(Model_III, scoring_method=BicScore(Model_III))\n",
    "best_model = hc.estimate()\n",
    "print(best_model.edges())"
   ]
  },
  {
   "cell_type": "code",
   "execution_count": 4,
   "metadata": {},
   "outputs": [
    {
     "data": {
      "text/plain": [
       "10"
      ]
     },
     "execution_count": 4,
     "metadata": {},
     "output_type": "execute_result"
    }
   ],
   "source": [
    "len(Model_III.columns)"
   ]
  },
  {
   "cell_type": "code",
   "execution_count": 5,
   "metadata": {},
   "outputs": [],
   "source": [
    "X = Model_III.iloc[:,1:11]"
   ]
  },
  {
   "cell_type": "markdown",
   "metadata": {},
   "source": [
    "## Gaussian Mixture Clustering -- Model III"
   ]
  },
  {
   "cell_type": "code",
   "execution_count": 6,
   "metadata": {},
   "outputs": [
    {
     "data": {
      "text/plain": [
       "GaussianMixture(covariance_type='full', init_params='kmeans', max_iter=100,\n",
       "        means_init=None, n_components=3, n_init=1, precisions_init=None,\n",
       "        random_state=999, reg_covar=1e-06, tol=0.001, verbose=0,\n",
       "        verbose_interval=10, warm_start=False, weights_init=None)"
      ]
     },
     "execution_count": 6,
     "metadata": {},
     "output_type": "execute_result"
    }
   ],
   "source": [
    "from sklearn.mixture import GaussianMixture\n",
    "GM=GaussianMixture(n_components=3,random_state=999)\n",
    "GM.fit(X)"
   ]
  },
  {
   "cell_type": "code",
   "execution_count": 7,
   "metadata": {},
   "outputs": [
    {
     "data": {
      "image/png": "[encoded data removed]",
      "text/plain": [
       "<Figure size 1440x288 with 1 Axes>"
      ]
     },
     "metadata": {
      "needs_background": "light"
     },
     "output_type": "display_data"
    }
   ],
   "source": [
    "# score_samples function gives the log of the probability density of each data record given its cluster.\n",
    "# Note that probability densities can exceed 1 (unlike probabilities of discrete data).\n",
    "import matplotlib.pylab as plt\n",
    "plt.figure(figsize=(20,4))\n",
    "plt.scatter(range(len(X)),GM.score_samples(X)) #gives each data record's log-likelihood. allows for direct anamoly detection\n",
    "plt.plot(GM.score_samples(X),\"r--\")\n",
    "plt.show()"
   ]
  },
  {
   "cell_type": "code",
   "execution_count": 8,
   "metadata": {},
   "outputs": [
    {
     "data": {
      "text/html": [
       "<div>\n",
       "<style scoped>\n",
       "    .dataframe tbody tr th:only-of-type {\n",
       "        vertical-align: middle;\n",
       "    }\n",
       "\n",
       "    .dataframe tbody tr th {\n",
       "        vertical-align: top;\n",
       "    }\n",
       "\n",
       "    .dataframe thead th {\n",
       "        text-align: right;\n",
       "    }\n",
       "</style>\n",
       "<table border=\"1\" class=\"dataframe\">\n",
       "  <thead>\n",
       "    <tr style=\"text-align: right;\">\n",
       "      <th></th>\n",
       "      <th>0</th>\n",
       "    </tr>\n",
       "  </thead>\n",
       "  <tbody>\n",
       "    <tr>\n",
       "      <th>34</th>\n",
       "      <td>-1.636656</td>\n",
       "    </tr>\n",
       "    <tr>\n",
       "      <th>27</th>\n",
       "      <td>0.402578</td>\n",
       "    </tr>\n",
       "    <tr>\n",
       "      <th>31</th>\n",
       "      <td>0.625390</td>\n",
       "    </tr>\n",
       "    <tr>\n",
       "      <th>21</th>\n",
       "      <td>0.792031</td>\n",
       "    </tr>\n",
       "    <tr>\n",
       "      <th>22</th>\n",
       "      <td>0.833108</td>\n",
       "    </tr>\n",
       "  </tbody>\n",
       "</table>\n",
       "</div>"
      ],
      "text/plain": [
       "           0\n",
       "34 -1.636656\n",
       "27  0.402578\n",
       "31  0.625390\n",
       "21  0.792031\n",
       "22  0.833108"
      ]
     },
     "execution_count": 8,
     "metadata": {},
     "output_type": "execute_result"
    }
   ],
   "source": [
    "# 5 most anomalous data points by log-likelihood (i.e. log probability density)\n",
    "pd.DataFrame(GM.score_samples(X)).sort_values(0)[:5]"
   ]
  },
  {
   "cell_type": "code",
   "execution_count": 9,
   "metadata": {},
   "outputs": [
    {
     "data": {
      "text/html": [
       "<div>\n",
       "<style scoped>\n",
       "    .dataframe tbody tr th:only-of-type {\n",
       "        vertical-align: middle;\n",
       "    }\n",
       "\n",
       "    .dataframe tbody tr th {\n",
       "        vertical-align: top;\n",
       "    }\n",
       "\n",
       "    .dataframe thead th {\n",
       "        text-align: right;\n",
       "    }\n",
       "</style>\n",
       "<table border=\"1\" class=\"dataframe\">\n",
       "  <thead>\n",
       "    <tr style=\"text-align: right;\">\n",
       "      <th></th>\n",
       "      <th>Neighborhood-index</th>\n",
       "      <th>Chronic Obstructive Pulmonary Disease  Hospitalization</th>\n",
       "    </tr>\n",
       "  </thead>\n",
       "  <tbody>\n",
       "    <tr>\n",
       "      <th>34</th>\n",
       "      <td>Sunset Park</td>\n",
       "      <td>-0.122460</td>\n",
       "    </tr>\n",
       "    <tr>\n",
       "      <th>27</th>\n",
       "      <td>Port Richmond</td>\n",
       "      <td>-0.786517</td>\n",
       "    </tr>\n",
       "    <tr>\n",
       "      <th>31</th>\n",
       "      <td>Southeast Queens</td>\n",
       "      <td>0.120125</td>\n",
       "    </tr>\n",
       "    <tr>\n",
       "      <th>21</th>\n",
       "      <td>Jamaica</td>\n",
       "      <td>0.133152</td>\n",
       "    </tr>\n",
       "    <tr>\n",
       "      <th>22</th>\n",
       "      <td>Kingsbridge - Riverdale</td>\n",
       "      <td>0.390357</td>\n",
       "    </tr>\n",
       "  </tbody>\n",
       "</table>\n",
       "</div>"
      ],
      "text/plain": [
       "         Neighborhood-index  \\\n",
       "34              Sunset Park   \n",
       "27            Port Richmond   \n",
       "31         Southeast Queens   \n",
       "21                  Jamaica   \n",
       "22  Kingsbridge - Riverdale   \n",
       "\n",
       "    Chronic Obstructive Pulmonary Disease  Hospitalization  \n",
       "34                                          -0.122460       \n",
       "27                                          -0.786517       \n",
       "31                                           0.120125       \n",
       "21                                           0.133152       \n",
       "22                                           0.390357       "
      ]
     },
     "execution_count": 9,
     "metadata": {},
     "output_type": "execute_result"
    }
   ],
   "source": [
    "Neighborhood_COPD = Model_III[['Neighborhood-index', 'Chronic Obstructive Pulmonary Disease  Hospitalization']]\n",
    "Neighborhood_COPD.iloc[[34,27, 31, 21, 22],:]\n",
    "\n",
    "#Model_I[6]"
   ]
  },
  {
   "cell_type": "markdown",
   "metadata": {},
   "source": [
    "## K-means Model III"
   ]
  },
  {
   "cell_type": "code",
   "execution_count": 10,
   "metadata": {},
   "outputs": [],
   "source": [
    "X_scaled = preprocessing.scale(X)"
   ]
  },
  {
   "cell_type": "code",
   "execution_count": 11,
   "metadata": {},
   "outputs": [
    {
     "data": {
      "text/html": [
       "<div>\n",
       "<style scoped>\n",
       "    .dataframe tbody tr th:only-of-type {\n",
       "        vertical-align: middle;\n",
       "    }\n",
       "\n",
       "    .dataframe tbody tr th {\n",
       "        vertical-align: top;\n",
       "    }\n",
       "\n",
       "    .dataframe thead th {\n",
       "        text-align: right;\n",
       "    }\n",
       "</style>\n",
       "<table border=\"1\" class=\"dataframe\">\n",
       "  <thead>\n",
       "    <tr style=\"text-align: right;\">\n",
       "      <th></th>\n",
       "      <th>0</th>\n",
       "      <th>1</th>\n",
       "    </tr>\n",
       "  </thead>\n",
       "  <tbody>\n",
       "    <tr>\n",
       "      <th>0</th>\n",
       "      <td>2.097196</td>\n",
       "      <td>3.351571</td>\n",
       "    </tr>\n",
       "    <tr>\n",
       "      <th>1</th>\n",
       "      <td>4.318163</td>\n",
       "      <td>2.855510</td>\n",
       "    </tr>\n",
       "    <tr>\n",
       "      <th>2</th>\n",
       "      <td>3.099059</td>\n",
       "      <td>2.307283</td>\n",
       "    </tr>\n",
       "    <tr>\n",
       "      <th>3</th>\n",
       "      <td>2.915323</td>\n",
       "      <td>3.324488</td>\n",
       "    </tr>\n",
       "    <tr>\n",
       "      <th>4</th>\n",
       "      <td>5.208994</td>\n",
       "      <td>3.510582</td>\n",
       "    </tr>\n",
       "  </tbody>\n",
       "</table>\n",
       "</div>"
      ],
      "text/plain": [
       "          0         1\n",
       "0  2.097196  3.351571\n",
       "1  4.318163  2.855510\n",
       "2  3.099059  2.307283\n",
       "3  2.915323  3.324488\n",
       "4  5.208994  3.510582"
      ]
     },
     "execution_count": 11,
     "metadata": {},
     "output_type": "execute_result"
    }
   ],
   "source": [
    "from sklearn.cluster import KMeans\n",
    "KM=KMeans(n_clusters=2,random_state=999)\n",
    "scor=KM.fit_predict(X_scaled)\n",
    "\n",
    "# distance to each cluster center\n",
    "res=pd.DataFrame(KM.transform(X_scaled))\n",
    "res.head()"
   ]
  },
  {
   "cell_type": "code",
   "execution_count": 12,
   "metadata": {},
   "outputs": [
    {
     "data": {
      "text/html": [
       "<div>\n",
       "<style scoped>\n",
       "    .dataframe tbody tr th:only-of-type {\n",
       "        vertical-align: middle;\n",
       "    }\n",
       "\n",
       "    .dataframe tbody tr th {\n",
       "        vertical-align: top;\n",
       "    }\n",
       "\n",
       "    .dataframe thead th {\n",
       "        text-align: right;\n",
       "    }\n",
       "</style>\n",
       "<table border=\"1\" class=\"dataframe\">\n",
       "  <thead>\n",
       "    <tr style=\"text-align: right;\">\n",
       "      <th></th>\n",
       "      <th>0</th>\n",
       "      <th>1</th>\n",
       "      <th>cluster</th>\n",
       "      <th>score</th>\n",
       "    </tr>\n",
       "  </thead>\n",
       "  <tbody>\n",
       "    <tr>\n",
       "      <th>27</th>\n",
       "      <td>5.916428</td>\n",
       "      <td>4.339659</td>\n",
       "      <td>1</td>\n",
       "      <td>4.339659</td>\n",
       "    </tr>\n",
       "    <tr>\n",
       "      <th>41</th>\n",
       "      <td>4.780823</td>\n",
       "      <td>4.280376</td>\n",
       "      <td>1</td>\n",
       "      <td>4.280376</td>\n",
       "    </tr>\n",
       "    <tr>\n",
       "      <th>18</th>\n",
       "      <td>3.754415</td>\n",
       "      <td>5.102781</td>\n",
       "      <td>0</td>\n",
       "      <td>3.754415</td>\n",
       "    </tr>\n",
       "    <tr>\n",
       "      <th>31</th>\n",
       "      <td>3.726292</td>\n",
       "      <td>4.528731</td>\n",
       "      <td>0</td>\n",
       "      <td>3.726292</td>\n",
       "    </tr>\n",
       "    <tr>\n",
       "      <th>34</th>\n",
       "      <td>4.063064</td>\n",
       "      <td>3.645671</td>\n",
       "      <td>1</td>\n",
       "      <td>3.645671</td>\n",
       "    </tr>\n",
       "  </tbody>\n",
       "</table>\n",
       "</div>"
      ],
      "text/plain": [
       "           0         1  cluster     score\n",
       "27  5.916428  4.339659        1  4.339659\n",
       "41  4.780823  4.280376        1  4.280376\n",
       "18  3.754415  5.102781        0  3.754415\n",
       "31  3.726292  4.528731        0  3.726292\n",
       "34  4.063064  3.645671        1  3.645671"
      ]
     },
     "execution_count": 12,
     "metadata": {},
     "output_type": "execute_result"
    }
   ],
   "source": [
    "res=pd.concat((res,pd.DataFrame(KM.fit_predict(X_scaled))),axis=1)\n",
    "res.columns=list(range(2))+[\"cluster\"]\n",
    "res.loc[:,\"score\"]=res.apply(lambda x: x[int(x[\"cluster\"])],axis=1)\n",
    "\n",
    "# find data records farthest from cluster centers\n",
    "res.sort_values(\"score\",ascending=False)[:5]"
   ]
  },
  {
   "cell_type": "code",
   "execution_count": 14,
   "metadata": {},
   "outputs": [
    {
     "data": {
      "text/html": [
       "<div>\n",
       "<style scoped>\n",
       "    .dataframe tbody tr th:only-of-type {\n",
       "        vertical-align: middle;\n",
       "    }\n",
       "\n",
       "    .dataframe tbody tr th {\n",
       "        vertical-align: top;\n",
       "    }\n",
       "\n",
       "    .dataframe thead th {\n",
       "        text-align: right;\n",
       "    }\n",
       "</style>\n",
       "<table border=\"1\" class=\"dataframe\">\n",
       "  <thead>\n",
       "    <tr style=\"text-align: right;\">\n",
       "      <th></th>\n",
       "      <th>Neighborhood-index</th>\n",
       "      <th>Chronic Obstructive Pulmonary Disease  Hospitalization</th>\n",
       "      <th>K-means</th>\n",
       "    </tr>\n",
       "  </thead>\n",
       "  <tbody>\n",
       "    <tr>\n",
       "      <th>27</th>\n",
       "      <td>Port Richmond</td>\n",
       "      <td>-0.786517</td>\n",
       "      <td>4.339659</td>\n",
       "    </tr>\n",
       "    <tr>\n",
       "      <th>41</th>\n",
       "      <td>Willowbrook</td>\n",
       "      <td>-0.103976</td>\n",
       "      <td>4.280376</td>\n",
       "    </tr>\n",
       "    <tr>\n",
       "      <th>18</th>\n",
       "      <td>Greenwich Village - SoHo</td>\n",
       "      <td>0.225806</td>\n",
       "      <td>3.754415</td>\n",
       "    </tr>\n",
       "    <tr>\n",
       "      <th>31</th>\n",
       "      <td>Southeast Queens</td>\n",
       "      <td>0.120125</td>\n",
       "      <td>3.726292</td>\n",
       "    </tr>\n",
       "    <tr>\n",
       "      <th>34</th>\n",
       "      <td>Sunset Park</td>\n",
       "      <td>-0.122460</td>\n",
       "      <td>3.645671</td>\n",
       "    </tr>\n",
       "  </tbody>\n",
       "</table>\n",
       "</div>"
      ],
      "text/plain": [
       "          Neighborhood-index  \\\n",
       "27             Port Richmond   \n",
       "41               Willowbrook   \n",
       "18  Greenwich Village - SoHo   \n",
       "31          Southeast Queens   \n",
       "34               Sunset Park   \n",
       "\n",
       "    Chronic Obstructive Pulmonary Disease  Hospitalization   K-means  \n",
       "27                                          -0.786517       4.339659  \n",
       "41                                          -0.103976       4.280376  \n",
       "18                                           0.225806       3.754415  \n",
       "31                                           0.120125       3.726292  \n",
       "34                                          -0.122460       3.645671  "
      ]
     },
     "execution_count": 14,
     "metadata": {},
     "output_type": "execute_result"
    }
   ],
   "source": [
    "x = res.loc[:,\"score\"]\n",
    "df_N = Model_III\n",
    "df_N = df_N.reset_index()\n",
    "df_N['K-means'] = x\n",
    "df_K = df_N[['Neighborhood-index', 'Chronic Obstructive Pulmonary Disease  Hospitalization', 'K-means']]\n",
    "df_K.nlargest(5, 'K-means')"
   ]
  },
  {
   "cell_type": "code",
   "execution_count": 15,
   "metadata": {},
   "outputs": [],
   "source": [
    "y = Model_III.iloc[:,1:3]"
   ]
  },
  {
   "cell_type": "code",
   "execution_count": 16,
   "metadata": {},
   "outputs": [],
   "source": [
    "y['cluster'] = (res.loc[:,\"cluster\"])"
   ]
  },
  {
   "cell_type": "code",
   "execution_count": 17,
   "metadata": {},
   "outputs": [
    {
     "data": {
      "image/png": "[encoded data removed]",
      "text/plain": [
       "<Figure size 432x288 with 1 Axes>"
      ]
     },
     "metadata": {
      "needs_background": "light"
     },
     "output_type": "display_data"
    }
   ],
   "source": [
    "#plt.subplot(1,2,2)\n",
    "plt.scatter(y.iloc[:,0], y.iloc[:,1], c=y['cluster'], cmap=plt.cm.cool)\n",
    "#plt.xlabel('x1')\n",
    "#plt.ylabel('x2')\n",
    "#plt.xticks(())\n",
    "#plt.yticks(())\n",
    "plt.title(\"Kmeans-{} clusters\".format(2))\n",
    "plt.show()"
   ]
  },
  {
   "cell_type": "code",
   "execution_count": 18,
   "metadata": {},
   "outputs": [
    {
     "name": "stdout",
     "output_type": "stream",
     "text": [
      "For n_clusters =2, the average silhouette_score is :0.59476526546\n",
      "For n_clusters =3, the average silhouette_score is :0.488766692282\n",
      "For n_clusters =4, the average silhouette_score is :0.574409503523\n",
      "For n_clusters =5, the average silhouette_score is :0.570337468513\n"
     ]
    }
   ],
   "source": [
    "from sklearn.metrics import silhouette_samples, silhouette_score\n",
    "import matplotlib.cm as cm\n",
    "import numpy as np\n",
    "\n",
    "range_n_clusters = [2, 3, 4,5]\n",
    "for n_clusters in range_n_clusters: #try different numbers of clusters\n",
    "    km = KMeans(n_clusters=n_clusters, random_state=999)\n",
    "    cluster_labels = km.fit_predict(y.iloc[:,0:2])\n",
    "    #report average Silhouette score\n",
    "    silhouette_avg = silhouette_score(y.iloc[:,0:2], cluster_labels)\n",
    "    print(\"For n_clusters ={},\".format(n_clusters)+\" the average silhouette_score is :{}\".format(silhouette_avg))"
   ]
  },
  {
   "cell_type": "markdown",
   "metadata": {},
   "source": [
    "### Isolation Forest Modeling -- Model III"
   ]
  },
  {
   "cell_type": "code",
   "execution_count": 38,
   "metadata": {},
   "outputs": [],
   "source": [
    "from sklearn.ensemble import IsolationForest"
   ]
  },
  {
   "cell_type": "code",
   "execution_count": 39,
   "metadata": {},
   "outputs": [
    {
     "name": "stderr",
     "output_type": "stream",
     "text": [
      "C:\\Users\\aniha\\Anaconda3\\envs\\TwentySevenVersion\\lib\\site-packages\\sklearn\\ensemble\\iforest.py:213: FutureWarning: default contamination parameter 0.1 will change in version 0.22 to \"auto\". This will change the predict method behavior.\n",
      "  FutureWarning)\n",
      "C:\\Users\\aniha\\Anaconda3\\envs\\TwentySevenVersion\\lib\\site-packages\\sklearn\\ensemble\\iforest.py:223: FutureWarning: behaviour=\"old\" is deprecated and will be removed in version 0.22. Please use behaviour=\"new\", which makes the decision_function change to match other anomaly detection algorithm API.\n",
      "  FutureWarning)\n",
      "C:\\Users\\aniha\\Anaconda3\\envs\\TwentySevenVersion\\lib\\site-packages\\sklearn\\ensemble\\iforest.py:250: UserWarning: max_samples (50) is greater than the total number of samples (42). max_samples will be set to n_samples for estimation.\n",
      "  % (self.max_samples, n_samples))\n",
      "C:\\Users\\aniha\\Anaconda3\\envs\\TwentySevenVersion\\lib\\site-packages\\sklearn\\ensemble\\iforest.py:417: DeprecationWarning: threshold_ attribute is deprecated in 0.20 and will be removed in 0.22.\n",
      "  \" be removed in 0.22.\", DeprecationWarning)\n"
     ]
    }
   ],
   "source": [
    "clf = IsolationForest(max_samples=50, random_state=123)\n",
    "clf.fit_predict(X)\n",
    "IsoForest = (clf.score_samples(X))"
   ]
  },
  {
   "cell_type": "code",
   "execution_count": 40,
   "metadata": {},
   "outputs": [
    {
     "data": {
      "text/html": [
       "<div>\n",
       "<style scoped>\n",
       "    .dataframe tbody tr th:only-of-type {\n",
       "        vertical-align: middle;\n",
       "    }\n",
       "\n",
       "    .dataframe tbody tr th {\n",
       "        vertical-align: top;\n",
       "    }\n",
       "\n",
       "    .dataframe thead th {\n",
       "        text-align: right;\n",
       "    }\n",
       "</style>\n",
       "<table border=\"1\" class=\"dataframe\">\n",
       "  <thead>\n",
       "    <tr style=\"text-align: right;\">\n",
       "      <th></th>\n",
       "      <th>Neighborhood-index</th>\n",
       "      <th>IsoFoScore</th>\n",
       "    </tr>\n",
       "  </thead>\n",
       "  <tbody>\n",
       "    <tr>\n",
       "      <th>27</th>\n",
       "      <td>Port Richmond</td>\n",
       "      <td>-0.519062</td>\n",
       "    </tr>\n",
       "    <tr>\n",
       "      <th>41</th>\n",
       "      <td>Willowbrook</td>\n",
       "      <td>-0.507593</td>\n",
       "    </tr>\n",
       "    <tr>\n",
       "      <th>4</th>\n",
       "      <td>Canarsie - Flatlands</td>\n",
       "      <td>-0.492987</td>\n",
       "    </tr>\n",
       "    <tr>\n",
       "      <th>13</th>\n",
       "      <td>Flushing - Clearview</td>\n",
       "      <td>-0.484400</td>\n",
       "    </tr>\n",
       "    <tr>\n",
       "      <th>10</th>\n",
       "      <td>East Flatbush - Flatbush</td>\n",
       "      <td>-0.477965</td>\n",
       "    </tr>\n",
       "  </tbody>\n",
       "</table>\n",
       "</div>"
      ],
      "text/plain": [
       "          Neighborhood-index  IsoFoScore\n",
       "27             Port Richmond   -0.519062\n",
       "41               Willowbrook   -0.507593\n",
       "4       Canarsie - Flatlands   -0.492987\n",
       "13      Flushing - Clearview   -0.484400\n",
       "10  East Flatbush - Flatbush   -0.477965"
      ]
     },
     "execution_count": 40,
     "metadata": {},
     "output_type": "execute_result"
    }
   ],
   "source": [
    "#Iso_score = GM.score_samples(Data_Numeric.iloc[:,1:32])\n",
    "df_I = Model_III\n",
    "df_I = df_I.reset_index()\n",
    "df_I['IsoFoScore'] = IsoForest\n",
    "df_I = df_I[['Neighborhood-index','IsoFoScore']]\n",
    "df_I.nsmallest(5, 'IsoFoScore')"
   ]
  },
  {
   "cell_type": "markdown",
   "metadata": {},
   "source": [
    "## LOF Clustering -- Model III"
   ]
  },
  {
   "cell_type": "code",
   "execution_count": 19,
   "metadata": {},
   "outputs": [
    {
     "name": "stderr",
     "output_type": "stream",
     "text": [
      "C:\\Users\\aniha\\Anaconda3\\envs\\TwentySevenVersion\\lib\\site-packages\\sklearn\\neighbors\\lof.py:236: FutureWarning: default contamination parameter 0.1 will change in version 0.22 to \"auto\". This will change the predict method behavior.\n",
      "  FutureWarning)\n"
     ]
    }
   ],
   "source": [
    "from sklearn.neighbors import LocalOutlierFactor\n",
    "\n",
    "# fit the model\n",
    "clf_LOF = LocalOutlierFactor(n_neighbors=5)\n",
    "y_pred = clf_LOF.fit_predict(X)\n",
    "LOF = (clf_LOF.negative_outlier_factor_)"
   ]
  },
  {
   "cell_type": "code",
   "execution_count": 20,
   "metadata": {},
   "outputs": [
    {
     "data": {
      "text/html": [
       "<div>\n",
       "<style scoped>\n",
       "    .dataframe tbody tr th:only-of-type {\n",
       "        vertical-align: middle;\n",
       "    }\n",
       "\n",
       "    .dataframe tbody tr th {\n",
       "        vertical-align: top;\n",
       "    }\n",
       "\n",
       "    .dataframe thead th {\n",
       "        text-align: right;\n",
       "    }\n",
       "</style>\n",
       "<table border=\"1\" class=\"dataframe\">\n",
       "  <thead>\n",
       "    <tr style=\"text-align: right;\">\n",
       "      <th></th>\n",
       "      <th>Neighborhood-index</th>\n",
       "      <th>Chronic Obstructive Pulmonary Disease  Hospitalization</th>\n",
       "      <th>LOF_Score</th>\n",
       "    </tr>\n",
       "  </thead>\n",
       "  <tbody>\n",
       "    <tr>\n",
       "      <th>27</th>\n",
       "      <td>Port Richmond</td>\n",
       "      <td>-0.786517</td>\n",
       "      <td>-1.738410</td>\n",
       "    </tr>\n",
       "    <tr>\n",
       "      <th>41</th>\n",
       "      <td>Willowbrook</td>\n",
       "      <td>-0.103976</td>\n",
       "      <td>-1.510757</td>\n",
       "    </tr>\n",
       "    <tr>\n",
       "      <th>34</th>\n",
       "      <td>Sunset Park</td>\n",
       "      <td>-0.122460</td>\n",
       "      <td>-1.327384</td>\n",
       "    </tr>\n",
       "    <tr>\n",
       "      <th>18</th>\n",
       "      <td>Greenwich Village - SoHo</td>\n",
       "      <td>0.225806</td>\n",
       "      <td>-1.293548</td>\n",
       "    </tr>\n",
       "    <tr>\n",
       "      <th>16</th>\n",
       "      <td>Gramercy Park - Murray Hill</td>\n",
       "      <td>-0.003549</td>\n",
       "      <td>-1.232164</td>\n",
       "    </tr>\n",
       "  </tbody>\n",
       "</table>\n",
       "</div>"
      ],
      "text/plain": [
       "             Neighborhood-index  \\\n",
       "27                Port Richmond   \n",
       "41                  Willowbrook   \n",
       "34                  Sunset Park   \n",
       "18     Greenwich Village - SoHo   \n",
       "16  Gramercy Park - Murray Hill   \n",
       "\n",
       "    Chronic Obstructive Pulmonary Disease  Hospitalization  LOF_Score  \n",
       "27                                          -0.786517       -1.738410  \n",
       "41                                          -0.103976       -1.510757  \n",
       "34                                          -0.122460       -1.327384  \n",
       "18                                           0.225806       -1.293548  \n",
       "16                                          -0.003549       -1.232164  "
      ]
     },
     "execution_count": 20,
     "metadata": {},
     "output_type": "execute_result"
    }
   ],
   "source": [
    "# fit the model\n",
    "df_LOF = Model_III\n",
    "df_LOF = df_LOF.reset_index()\n",
    "df_LOF['LOF_Score'] = LOF\n",
    "df_LOF = df_LOF[['Neighborhood-index', 'Chronic Obstructive Pulmonary Disease  Hospitalization', 'LOF_Score']]\n",
    "df_LOF.nsmallest(5, 'LOF_Score')"
   ]
  },
  {
   "cell_type": "code",
   "execution_count": 21,
   "metadata": {},
   "outputs": [],
   "source": [
    "X_reshape = X.values.reshape(-2,2)"
   ]
  },
  {
   "cell_type": "code",
   "execution_count": 22,
   "metadata": {},
   "outputs": [
    {
     "data": {
      "text/plain": [
       "189"
      ]
     },
     "execution_count": 22,
     "metadata": {},
     "output_type": "execute_result"
    }
   ],
   "source": [
    "len(X_reshape)"
   ]
  },
  {
   "cell_type": "code",
   "execution_count": 25,
   "metadata": {},
   "outputs": [
    {
     "data": {
      "image/png": "[encoded data removed]",
      "text/plain": [
       "<Figure size 720x720 with 1 Axes>"
      ]
     },
     "metadata": {
      "needs_background": "light"
     },
     "output_type": "display_data"
    }
   ],
   "source": [
    "# fit the model\n",
    "clf_LOF = LocalOutlierFactor(n_neighbors=7)\n",
    "y_pred = clf_LOF.fit_predict(X_reshape)\n",
    "#y_pred_outliers = y_pred[200:]\n",
    "\n",
    "# plot the level sets of the decision function\n",
    "xx, yy = np.meshgrid(np.linspace(-10, 10, 100), np.linspace(-10, 10, 100))\n",
    "Z = clf_LOF._decision_function(np.c_[xx.ravel(), yy.ravel()])\n",
    "Z = Z.reshape(xx.shape)\n",
    "\n",
    "plt.figure(figsize=(10,10))\n",
    "\n",
    "\n",
    "plt.title(\"Local Outlier Factor (LOF)\")\n",
    "plt.contourf(xx, yy, Z, cmap=plt.cm.Blues_r)\n",
    "\n",
    "a = plt.scatter(X_reshape[:189, 0], X_reshape[:189, 1], c='black')\n",
    "b = plt.scatter(X_reshape[189:, 0], X_reshape[189:, 1], c='red')\n",
    "plt.axis('tight')\n",
    "plt.xlim((-5, 5))\n",
    "plt.ylim((-5, 5))\n",
    "plt.legend([a, b],\n",
    "           [\"normal observations\",\n",
    "            \"abnormal observations\"],\n",
    "           loc=\"upper left\")\n",
    "plt.show()"
   ]
  },
  {
   "cell_type": "markdown",
   "metadata": {},
   "source": [
    "## DBSCAN -- Model I"
   ]
  },
  {
   "cell_type": "code",
   "execution_count": 47,
   "metadata": {},
   "outputs": [],
   "source": [
    "import numpy as np\n",
    "from sklearn.cluster import DBSCAN\n",
    "from sklearn.datasets.samples_generator import make_blobs\n",
    "import matplotlib.pyplot as plt\n",
    "import sklearn.datasets as data\n",
    "import sklearn.cluster as cluster\n",
    "import time\n",
    "from sklearn import cluster, datasets"
   ]
  },
  {
   "cell_type": "code",
   "execution_count": 48,
   "metadata": {},
   "outputs": [],
   "source": [
    "def visuDB(data,eps,min_samples):\n",
    "    db = DBSCAN(eps, min_samples).fit(X_reshape)\n",
    "    plt.figure(figsize=(6,6))\n",
    "    plt.scatter(X_reshape[:,0],X_reshape[:,1],c=db.labels_,s=10)\n",
    "    print \"Proportion of unclustered points=\",(1*(db.labels_ < 0)).mean()\n",
    "    plt.show()"
   ]
  },
  {
   "cell_type": "code",
   "execution_count": 49,
   "metadata": {},
   "outputs": [
    {
     "name": "stdout",
     "output_type": "stream",
     "text": [
      "Proportion of unclustered points= 0.0\n"
     ]
    },
    {
     "data": {
      "image/png": "[encoded data removed]",
      "text/plain": [
       "<Figure size 432x432 with 1 Axes>"
      ]
     },
     "metadata": {
      "needs_background": "light"
     },
     "output_type": "display_data"
    }
   ],
   "source": [
    "visuDB(X_reshape,0.5,7)"
   ]
  },
  {
   "cell_type": "code",
   "execution_count": 50,
   "metadata": {},
   "outputs": [],
   "source": [
    "# your code here\n",
    "\n",
    "total_num_samples = len(X_reshape[:,0])\n",
    "max_eps = max(np.max(X_reshape[:,0])-np.min(X_reshape[:,0]),np.max(X_reshape[:,1])-np.min(X_reshape[:,1]))\n",
    "\n",
    "for eps in np.logspace(np.log10(max_eps)-3,np.log10(max_eps),10):\n",
    "    for min_samples in np.linspace(40,800,40,endpoint=True):\n",
    "        db = DBSCAN(eps, min_samples).fit(X_reshape)\n",
    "        num_clustered = len(db.labels_[db.labels_ >= 0])\n",
    "        if (num_clustered > 0) & (num_clustered < 0.1*total_num_samples):\n",
    "            dbb=db\n",
    "            plt.figure(figsize=(8,8))\n",
    "            print \"eps =\", eps, \", min_samples =\", min_samples, \", num_detected_points =\", len(db.labels_[db.labels_ >= 0])\n",
    "            \n",
    "            # evaluation\n",
    "            num_correct_clustered = len(db.labels_[0:100][db.labels_[0:100] >= 0])\n",
    "            print \"precision=\",1.0*num_correct_clustered/num_clustered,\"recall=\",1.0*num_correct_clustered/100.0\n",
    "            \n",
    "            plt.scatter(X_reshape[:,0],X_reshape[:,1],c=db.labels_,s=10,cmap=plt.cm.cool)\n",
    "            plt.show()"
   ]
  },
  {
   "cell_type": "code",
   "execution_count": null,
   "metadata": {},
   "outputs": [],
   "source": []
  }
 ],
 "metadata": {
  "kernelspec": {
   "display_name": "Python 2",
   "language": "python",
   "name": "python2"
  },
  "language_info": {
   "codemirror_mode": {
    "name": "ipython",
    "version": 2
   },
   "file_extension": ".py",
   "mimetype": "text/x-python",
   "name": "python",
   "nbconvert_exporter": "python",
   "pygments_lexer": "ipython2",
   "version": "2.7.16"
  }
 },
 "nbformat": 4,
 "nbformat_minor": 2
}
